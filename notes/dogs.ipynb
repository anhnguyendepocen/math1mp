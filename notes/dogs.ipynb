{
 "cells": [
  {
   "cell_type": "markdown",
   "metadata": {},
   "source": [
    "Import modules, check out available files"
   ]
  },
  {
   "cell_type": "code",
   "execution_count": 2,
   "metadata": {
    "collapsed": false
   },
   "outputs": [
    {
     "data": {
      "text/plain": [
       "['benford_pop.txt',\n",
       " 'darwin_nopunct.txt',\n",
       " 'mobydick.txt',\n",
       " 'NYC_Dog_Licenses_Current_as_of_4-28-2016.xlsx']"
      ]
     },
     "execution_count": 2,
     "metadata": {},
     "output_type": "execute_result"
    }
   ],
   "source": [
    "import pandas as pd\n",
    "import os\n",
    "import matplotlib.pyplot as plt\n",
    "import numpy as np\n",
    "os.getcwd()\n",
    "os.listdir(\"../data\")\n"
   ]
  },
  {
   "cell_type": "markdown",
   "metadata": {},
   "source": [
    "For reading `xlsx` files, pandas has a `read_excel` function: apparently need `xlrd` module installed (within PyCharm, or via `pip`/`pip3` on the command line (`pip3 install`). The other alternative is to open the file in Excel, save as CSV, and use `read_csv` ..."
   ]
  },
  {
   "cell_type": "code",
   "execution_count": 4,
   "metadata": {
    "collapsed": false
   },
   "outputs": [],
   "source": [
    "p = pd.read_excel(\"../data/NYC_Dog_Licenses_Current_as_of_4-28-2016.xlsx\")"
   ]
  },
  {
   "cell_type": "markdown",
   "metadata": {},
   "source": [
    "Check it out ..."
   ]
  },
  {
   "cell_type": "code",
   "execution_count": 5,
   "metadata": {
    "collapsed": false
   },
   "outputs": [
    {
     "data": {
      "text/html": [
       "<div>\n",
       "<table border=\"1\" class=\"dataframe\">\n",
       "  <thead>\n",
       "    <tr style=\"text-align: right;\">\n",
       "      <th></th>\n",
       "      <th>Owner Zip Code</th>\n",
       "      <th>Animal Name</th>\n",
       "      <th>Animal Gender</th>\n",
       "      <th>Primary Breed</th>\n",
       "      <th>Secondary Breed</th>\n",
       "      <th>Animal Dominant Color</th>\n",
       "      <th>Animal Secondary Color</th>\n",
       "      <th>Animal Third Color</th>\n",
       "      <th>Animal Birth</th>\n",
       "      <th>Spayed or Neut</th>\n",
       "      <th>Guard or Trained</th>\n",
       "      <th>Vaccinated</th>\n",
       "      <th>Application Date</th>\n",
       "      <th>License Issued Date</th>\n",
       "      <th>License Expired Date</th>\n",
       "    </tr>\n",
       "  </thead>\n",
       "  <tbody>\n",
       "    <tr>\n",
       "      <th>0</th>\n",
       "      <td>10013</td>\n",
       "      <td>Bilal</td>\n",
       "      <td>M</td>\n",
       "      <td>Australian Cattledog</td>\n",
       "      <td>NaN</td>\n",
       "      <td>Rust</td>\n",
       "      <td>NaN</td>\n",
       "      <td>NaN</td>\n",
       "      <td>2014-09-01 00:00:00</td>\n",
       "      <td>Yes</td>\n",
       "      <td>NaN</td>\n",
       "      <td>No</td>\n",
       "      <td>2014-09-12 13:13:36.713</td>\n",
       "      <td>2014-09-12</td>\n",
       "      <td>2019-09-12</td>\n",
       "    </tr>\n",
       "    <tr>\n",
       "      <th>1</th>\n",
       "      <td>10025</td>\n",
       "      <td>Buddy</td>\n",
       "      <td>M</td>\n",
       "      <td>Unknown</td>\n",
       "      <td>Cockapoo</td>\n",
       "      <td>BLOND</td>\n",
       "      <td>WHITE</td>\n",
       "      <td>NaN</td>\n",
       "      <td>2008-04-01 00:00:00</td>\n",
       "      <td>Yes</td>\n",
       "      <td>No</td>\n",
       "      <td>Yes</td>\n",
       "      <td>2014-09-12 15:26:51.417</td>\n",
       "      <td>2014-09-12</td>\n",
       "      <td>2017-10-20</td>\n",
       "    </tr>\n",
       "    <tr>\n",
       "      <th>2</th>\n",
       "      <td>10013</td>\n",
       "      <td>Ali</td>\n",
       "      <td>M</td>\n",
       "      <td>Basenji</td>\n",
       "      <td>NaN</td>\n",
       "      <td>Black</td>\n",
       "      <td>NaN</td>\n",
       "      <td>NaN</td>\n",
       "      <td>2014-01-01 00:00:00</td>\n",
       "      <td>No</td>\n",
       "      <td>NaN</td>\n",
       "      <td>No</td>\n",
       "      <td>2014-09-12 15:43:17.707</td>\n",
       "      <td>2014-09-12</td>\n",
       "      <td>2019-09-12</td>\n",
       "    </tr>\n",
       "    <tr>\n",
       "      <th>3</th>\n",
       "      <td>10013</td>\n",
       "      <td>Queen</td>\n",
       "      <td>F</td>\n",
       "      <td>Akita Crossbreed</td>\n",
       "      <td>NaN</td>\n",
       "      <td>Charcoal</td>\n",
       "      <td>Red</td>\n",
       "      <td>NaN</td>\n",
       "      <td>2013-04-01 00:00:00</td>\n",
       "      <td>No</td>\n",
       "      <td>NaN</td>\n",
       "      <td>Yes</td>\n",
       "      <td>2014-09-12 16:14:48.487</td>\n",
       "      <td>2014-09-12</td>\n",
       "      <td>2017-09-12</td>\n",
       "    </tr>\n",
       "    <tr>\n",
       "      <th>4</th>\n",
       "      <td>10035</td>\n",
       "      <td>Paige Sable Orta</td>\n",
       "      <td>F</td>\n",
       "      <td>American Pit Bull Mix / Pit Bull Mix</td>\n",
       "      <td>NaN</td>\n",
       "      <td>White</td>\n",
       "      <td>Gray</td>\n",
       "      <td>NaN</td>\n",
       "      <td>2014-07-01 00:00:00</td>\n",
       "      <td>No</td>\n",
       "      <td>NaN</td>\n",
       "      <td>No</td>\n",
       "      <td>2014-09-12 16:22:54.113</td>\n",
       "      <td>2014-09-12</td>\n",
       "      <td>2017-09-12</td>\n",
       "    </tr>\n",
       "  </tbody>\n",
       "</table>\n",
       "</div>"
      ],
      "text/plain": [
       "   Owner Zip Code       Animal Name Animal Gender  \\\n",
       "0           10013             Bilal             M   \n",
       "1           10025             Buddy             M   \n",
       "2           10013               Ali             M   \n",
       "3           10013             Queen             F   \n",
       "4           10035  Paige Sable Orta             F   \n",
       "\n",
       "                          Primary Breed Secondary Breed Animal Dominant Color  \\\n",
       "0                  Australian Cattledog             NaN                  Rust   \n",
       "1                               Unknown        Cockapoo                 BLOND   \n",
       "2                               Basenji             NaN                 Black   \n",
       "3                      Akita Crossbreed             NaN              Charcoal   \n",
       "4  American Pit Bull Mix / Pit Bull Mix             NaN                 White   \n",
       "\n",
       "  Animal Secondary Color Animal Third Color         Animal Birth  \\\n",
       "0                    NaN                NaN  2014-09-01 00:00:00   \n",
       "1                  WHITE                NaN  2008-04-01 00:00:00   \n",
       "2                    NaN                NaN  2014-01-01 00:00:00   \n",
       "3                    Red                NaN  2013-04-01 00:00:00   \n",
       "4                   Gray                NaN  2014-07-01 00:00:00   \n",
       "\n",
       "  Spayed or Neut Guard or Trained Vaccinated        Application Date  \\\n",
       "0            Yes              NaN         No 2014-09-12 13:13:36.713   \n",
       "1            Yes               No        Yes 2014-09-12 15:26:51.417   \n",
       "2             No              NaN         No 2014-09-12 15:43:17.707   \n",
       "3             No              NaN        Yes 2014-09-12 16:14:48.487   \n",
       "4             No              NaN         No 2014-09-12 16:22:54.113   \n",
       "\n",
       "  License Issued Date License Expired Date  \n",
       "0          2014-09-12           2019-09-12  \n",
       "1          2014-09-12           2017-10-20  \n",
       "2          2014-09-12           2019-09-12  \n",
       "3          2014-09-12           2017-09-12  \n",
       "4          2014-09-12           2017-09-12  "
      ]
     },
     "execution_count": 5,
     "metadata": {},
     "output_type": "execute_result"
    }
   ],
   "source": [
    "p.head()"
   ]
  },
  {
   "cell_type": "markdown",
   "metadata": {},
   "source": [
    "Rename columns (the current set is awkward; long, and spaces in names make `p.columnname` impossible)"
   ]
  },
  {
   "cell_type": "code",
   "execution_count": 6,
   "metadata": {
    "collapsed": true
   },
   "outputs": [],
   "source": [
    "p.columns = [\"zipcode\",\"name\",\"gender\",\"breed1\",\"breed2\",\n",
    "             \"color1\",\"color2\",\"color3\",\"birth\",\"fixed\",\n",
    "            \"trained\",\"vaccinated\",\"app_date\",\"lic_date\",\"exp_date\"]"
   ]
  },
  {
   "cell_type": "markdown",
   "metadata": {},
   "source": [
    "check again ..."
   ]
  },
  {
   "cell_type": "code",
   "execution_count": 7,
   "metadata": {
    "collapsed": false,
    "scrolled": true
   },
   "outputs": [
    {
     "data": {
      "text/html": [
       "<div>\n",
       "<table border=\"1\" class=\"dataframe\">\n",
       "  <thead>\n",
       "    <tr style=\"text-align: right;\">\n",
       "      <th></th>\n",
       "      <th>zipcode</th>\n",
       "      <th>name</th>\n",
       "      <th>gender</th>\n",
       "      <th>breed1</th>\n",
       "      <th>breed2</th>\n",
       "      <th>color1</th>\n",
       "      <th>color2</th>\n",
       "      <th>color3</th>\n",
       "      <th>birth</th>\n",
       "      <th>fixed</th>\n",
       "      <th>trained</th>\n",
       "      <th>vaccinated</th>\n",
       "      <th>app_date</th>\n",
       "      <th>lic_date</th>\n",
       "      <th>exp_date</th>\n",
       "    </tr>\n",
       "  </thead>\n",
       "  <tbody>\n",
       "    <tr>\n",
       "      <th>0</th>\n",
       "      <td>10013</td>\n",
       "      <td>Bilal</td>\n",
       "      <td>M</td>\n",
       "      <td>Australian Cattledog</td>\n",
       "      <td>NaN</td>\n",
       "      <td>Rust</td>\n",
       "      <td>NaN</td>\n",
       "      <td>NaN</td>\n",
       "      <td>2014-09-01 00:00:00</td>\n",
       "      <td>Yes</td>\n",
       "      <td>NaN</td>\n",
       "      <td>No</td>\n",
       "      <td>2014-09-12 13:13:36.713</td>\n",
       "      <td>2014-09-12</td>\n",
       "      <td>2019-09-12</td>\n",
       "    </tr>\n",
       "    <tr>\n",
       "      <th>1</th>\n",
       "      <td>10025</td>\n",
       "      <td>Buddy</td>\n",
       "      <td>M</td>\n",
       "      <td>Unknown</td>\n",
       "      <td>Cockapoo</td>\n",
       "      <td>BLOND</td>\n",
       "      <td>WHITE</td>\n",
       "      <td>NaN</td>\n",
       "      <td>2008-04-01 00:00:00</td>\n",
       "      <td>Yes</td>\n",
       "      <td>No</td>\n",
       "      <td>Yes</td>\n",
       "      <td>2014-09-12 15:26:51.417</td>\n",
       "      <td>2014-09-12</td>\n",
       "      <td>2017-10-20</td>\n",
       "    </tr>\n",
       "    <tr>\n",
       "      <th>2</th>\n",
       "      <td>10013</td>\n",
       "      <td>Ali</td>\n",
       "      <td>M</td>\n",
       "      <td>Basenji</td>\n",
       "      <td>NaN</td>\n",
       "      <td>Black</td>\n",
       "      <td>NaN</td>\n",
       "      <td>NaN</td>\n",
       "      <td>2014-01-01 00:00:00</td>\n",
       "      <td>No</td>\n",
       "      <td>NaN</td>\n",
       "      <td>No</td>\n",
       "      <td>2014-09-12 15:43:17.707</td>\n",
       "      <td>2014-09-12</td>\n",
       "      <td>2019-09-12</td>\n",
       "    </tr>\n",
       "    <tr>\n",
       "      <th>3</th>\n",
       "      <td>10013</td>\n",
       "      <td>Queen</td>\n",
       "      <td>F</td>\n",
       "      <td>Akita Crossbreed</td>\n",
       "      <td>NaN</td>\n",
       "      <td>Charcoal</td>\n",
       "      <td>Red</td>\n",
       "      <td>NaN</td>\n",
       "      <td>2013-04-01 00:00:00</td>\n",
       "      <td>No</td>\n",
       "      <td>NaN</td>\n",
       "      <td>Yes</td>\n",
       "      <td>2014-09-12 16:14:48.487</td>\n",
       "      <td>2014-09-12</td>\n",
       "      <td>2017-09-12</td>\n",
       "    </tr>\n",
       "    <tr>\n",
       "      <th>4</th>\n",
       "      <td>10035</td>\n",
       "      <td>Paige Sable Orta</td>\n",
       "      <td>F</td>\n",
       "      <td>American Pit Bull Mix / Pit Bull Mix</td>\n",
       "      <td>NaN</td>\n",
       "      <td>White</td>\n",
       "      <td>Gray</td>\n",
       "      <td>NaN</td>\n",
       "      <td>2014-07-01 00:00:00</td>\n",
       "      <td>No</td>\n",
       "      <td>NaN</td>\n",
       "      <td>No</td>\n",
       "      <td>2014-09-12 16:22:54.113</td>\n",
       "      <td>2014-09-12</td>\n",
       "      <td>2017-09-12</td>\n",
       "    </tr>\n",
       "  </tbody>\n",
       "</table>\n",
       "</div>"
      ],
      "text/plain": [
       "   zipcode              name gender                                breed1  \\\n",
       "0    10013             Bilal      M                  Australian Cattledog   \n",
       "1    10025             Buddy      M                               Unknown   \n",
       "2    10013               Ali      M                               Basenji   \n",
       "3    10013             Queen      F                      Akita Crossbreed   \n",
       "4    10035  Paige Sable Orta      F  American Pit Bull Mix / Pit Bull Mix   \n",
       "\n",
       "     breed2    color1 color2 color3                birth fixed trained  \\\n",
       "0       NaN      Rust    NaN    NaN  2014-09-01 00:00:00   Yes     NaN   \n",
       "1  Cockapoo     BLOND  WHITE    NaN  2008-04-01 00:00:00   Yes      No   \n",
       "2       NaN     Black    NaN    NaN  2014-01-01 00:00:00    No     NaN   \n",
       "3       NaN  Charcoal    Red    NaN  2013-04-01 00:00:00    No     NaN   \n",
       "4       NaN     White   Gray    NaN  2014-07-01 00:00:00    No     NaN   \n",
       "\n",
       "  vaccinated                app_date   lic_date   exp_date  \n",
       "0         No 2014-09-12 13:13:36.713 2014-09-12 2019-09-12  \n",
       "1        Yes 2014-09-12 15:26:51.417 2014-09-12 2017-10-20  \n",
       "2         No 2014-09-12 15:43:17.707 2014-09-12 2019-09-12  \n",
       "3        Yes 2014-09-12 16:14:48.487 2014-09-12 2017-09-12  \n",
       "4         No 2014-09-12 16:22:54.113 2014-09-12 2017-09-12  "
      ]
     },
     "execution_count": 7,
     "metadata": {},
     "output_type": "execute_result"
    }
   ],
   "source": [
    "p.head()"
   ]
  },
  {
   "cell_type": "markdown",
   "metadata": {},
   "source": [
    "Since these are mostly categorical/string values, most of what we want to do will be *tabulation*.  The `.value_counts()` method tabulates a Series ... (ordered from most to least column)"
   ]
  },
  {
   "cell_type": "code",
   "execution_count": 101,
   "metadata": {
    "collapsed": false
   },
   "outputs": [
    {
     "data": {
      "text/plain": [
       "Unknown              12898\n",
       "Yorkshire Terrier     5133\n",
       "Shih Tzu              4727\n",
       "Chihuahua             3924\n",
       "Maltese               2965\n",
       "Name: breed1, dtype: int64"
      ]
     },
     "execution_count": 101,
     "metadata": {},
     "output_type": "execute_result"
    }
   ],
   "source": [
    "breedtab0 = p.breed1.value_counts()\n",
    "breedtab0.head()"
   ]
  },
  {
   "cell_type": "markdown",
   "metadata": {},
   "source": [
    "Let's make a barplot of the results:"
   ]
  },
  {
   "cell_type": "code",
   "execution_count": 52,
   "metadata": {
    "collapsed": false,
    "scrolled": true
   },
   "outputs": [
    {
     "data": {
      "image/png": "[encoded data removed]",
      "text/plain": [
       "<matplotlib.figure.Figure at 0x7f39655c8c18>"
      ]
     },
     "metadata": {},
     "output_type": "display_data"
    }
   ],
   "source": [
    "\n",
    "%matplotlib inline\n",
    "plt.bar(np.arange(len(breedtab0)),height=breedtab0);"
   ]
  },
  {
   "cell_type": "markdown",
   "metadata": {},
   "source": [
    "Not so useful. Plot just the most common breeds? (Drop the most common/first, which is \"Unknown\")"
   ]
  },
  {
   "cell_type": "code",
   "execution_count": 102,
   "metadata": {
    "collapsed": false,
    "scrolled": true
   },
   "outputs": [
    {
     "data": {
      "image/png": "[encoded data removed]",
      "text/plain": [
       "<matplotlib.figure.Figure at 0x7f396635b9b0>"
      ]
     },
     "metadata": {},
     "output_type": "display_data"
    }
   ],
   "source": [
    "bc2 = bc.iloc[1:10]\n",
    "pos = np.arange(len(bc2))\n",
    "plt.bar(pos,height=bc2)\n",
    "plt.xticks(pos,bc2.index);  ## breed names as tick labels"
   ]
  },
  {
   "cell_type": "markdown",
   "metadata": {},
   "source": [
    "a good start, but ugly.  We could play with rotating breed names, but an alternative solution is to rotate the whole graph, so that horizontal labels will fit. We can do this with `plt.barh`."
   ]
  },
  {
   "cell_type": "markdown",
   "metadata": {
    "collapsed": false
   },
   "source": [
    "\n",
    "plt.barh(pos,width=bc2,align=\"center\");\n",
    "plt.yticks(pos,bc2.index);"
   ]
  },
  {
   "cell_type": "markdown",
   "metadata": {},
   "source": [
    "Now we want to try *cross-tabulating* with the `.crosstab` method. `index` variable gives the rows, `columns` variable gives the columns"
   ]
  },
  {
   "cell_type": "code",
   "execution_count": 103,
   "metadata": {
    "collapsed": false
   },
   "outputs": [
    {
     "data": {
      "text/html": [
       "<div>\n",
       "<table border=\"1\" class=\"dataframe\">\n",
       "  <thead>\n",
       "    <tr style=\"text-align: right;\">\n",
       "      <th>gender</th>\n",
       "      <th></th>\n",
       "      <th>F</th>\n",
       "      <th>M</th>\n",
       "    </tr>\n",
       "    <tr>\n",
       "      <th>breed1</th>\n",
       "      <th></th>\n",
       "      <th></th>\n",
       "      <th></th>\n",
       "    </tr>\n",
       "  </thead>\n",
       "  <tbody>\n",
       "    <tr>\n",
       "      <th>Affenpinscher</th>\n",
       "      <td>0</td>\n",
       "      <td>7</td>\n",
       "      <td>13</td>\n",
       "    </tr>\n",
       "    <tr>\n",
       "      <th>Afghan Hound</th>\n",
       "      <td>0</td>\n",
       "      <td>6</td>\n",
       "      <td>8</td>\n",
       "    </tr>\n",
       "    <tr>\n",
       "      <th>Airedale Terrier</th>\n",
       "      <td>0</td>\n",
       "      <td>13</td>\n",
       "      <td>16</td>\n",
       "    </tr>\n",
       "    <tr>\n",
       "      <th>Akita</th>\n",
       "      <td>0</td>\n",
       "      <td>38</td>\n",
       "      <td>60</td>\n",
       "    </tr>\n",
       "    <tr>\n",
       "      <th>Akita Crossbreed</th>\n",
       "      <td>0</td>\n",
       "      <td>15</td>\n",
       "      <td>26</td>\n",
       "    </tr>\n",
       "  </tbody>\n",
       "</table>\n",
       "</div>"
      ],
      "text/plain": [
       "gender                F   M\n",
       "breed1                     \n",
       "Affenpinscher     0   7  13\n",
       "Afghan Hound      0   6   8\n",
       "Airedale Terrier  0  13  16\n",
       "Akita             0  38  60\n",
       "Akita Crossbreed  0  15  26"
      ]
     },
     "execution_count": 103,
     "metadata": {},
     "output_type": "execute_result"
    }
   ],
   "source": [
    "breedtab1 = pd.crosstab(index=p.breed1,columns=p.gender)\n",
    "breedtab1.head()\n"
   ]
  },
  {
   "cell_type": "markdown",
   "metadata": {},
   "source": [
    "what if I want to sort from most to least common breed overall? One way to do this is to add the breed table back to this table, then sort (`reindex` is an alternative ...)"
   ]
  },
  {
   "cell_type": "code",
   "execution_count": 104,
   "metadata": {
    "collapsed": false
   },
   "outputs": [
    {
     "data": {
      "text/html": [
       "<div>\n",
       "<table border=\"1\" class=\"dataframe\">\n",
       "  <thead>\n",
       "    <tr style=\"text-align: right;\">\n",
       "      <th>gender</th>\n",
       "      <th></th>\n",
       "      <th>F</th>\n",
       "      <th>M</th>\n",
       "      <th>breed1</th>\n",
       "    </tr>\n",
       "    <tr>\n",
       "      <th>breed1</th>\n",
       "      <th></th>\n",
       "      <th></th>\n",
       "      <th></th>\n",
       "      <th></th>\n",
       "    </tr>\n",
       "  </thead>\n",
       "  <tbody>\n",
       "    <tr>\n",
       "      <th>Affenpinscher</th>\n",
       "      <td>0</td>\n",
       "      <td>7</td>\n",
       "      <td>13</td>\n",
       "      <td>20</td>\n",
       "    </tr>\n",
       "    <tr>\n",
       "      <th>Afghan Hound</th>\n",
       "      <td>0</td>\n",
       "      <td>6</td>\n",
       "      <td>8</td>\n",
       "      <td>14</td>\n",
       "    </tr>\n",
       "    <tr>\n",
       "      <th>Airedale Terrier</th>\n",
       "      <td>0</td>\n",
       "      <td>13</td>\n",
       "      <td>16</td>\n",
       "      <td>29</td>\n",
       "    </tr>\n",
       "    <tr>\n",
       "      <th>Akita</th>\n",
       "      <td>0</td>\n",
       "      <td>38</td>\n",
       "      <td>60</td>\n",
       "      <td>98</td>\n",
       "    </tr>\n",
       "    <tr>\n",
       "      <th>Akita Crossbreed</th>\n",
       "      <td>0</td>\n",
       "      <td>15</td>\n",
       "      <td>26</td>\n",
       "      <td>41</td>\n",
       "    </tr>\n",
       "  </tbody>\n",
       "</table>\n",
       "</div>"
      ],
      "text/plain": [
       "gender                F   M  breed1\n",
       "breed1                             \n",
       "Affenpinscher     0   7  13      20\n",
       "Afghan Hound      0   6   8      14\n",
       "Airedale Terrier  0  13  16      29\n",
       "Akita             0  38  60      98\n",
       "Akita Crossbreed  0  15  26      41"
      ]
     },
     "execution_count": 104,
     "metadata": {},
     "output_type": "execute_result"
    }
   ],
   "source": [
    "breedtab2 = breedtab1.join(breedtab0)\n",
    "breedtab2.head()"
   ]
  },
  {
   "cell_type": "code",
   "execution_count": 105,
   "metadata": {
    "collapsed": false,
    "scrolled": true
   },
   "outputs": [
    {
     "data": {
      "text/html": [
       "<div>\n",
       "<table border=\"1\" class=\"dataframe\">\n",
       "  <thead>\n",
       "    <tr style=\"text-align: right;\">\n",
       "      <th>gender</th>\n",
       "      <th></th>\n",
       "      <th>F</th>\n",
       "      <th>M</th>\n",
       "      <th>breed1</th>\n",
       "    </tr>\n",
       "    <tr>\n",
       "      <th>breed1</th>\n",
       "      <th></th>\n",
       "      <th></th>\n",
       "      <th></th>\n",
       "      <th></th>\n",
       "    </tr>\n",
       "  </thead>\n",
       "  <tbody>\n",
       "    <tr>\n",
       "      <th>Unknown</th>\n",
       "      <td>2</td>\n",
       "      <td>6268</td>\n",
       "      <td>6628</td>\n",
       "      <td>12898</td>\n",
       "    </tr>\n",
       "    <tr>\n",
       "      <th>Yorkshire Terrier</th>\n",
       "      <td>1</td>\n",
       "      <td>2233</td>\n",
       "      <td>2899</td>\n",
       "      <td>5133</td>\n",
       "    </tr>\n",
       "    <tr>\n",
       "      <th>Shih Tzu</th>\n",
       "      <td>1</td>\n",
       "      <td>2029</td>\n",
       "      <td>2697</td>\n",
       "      <td>4727</td>\n",
       "    </tr>\n",
       "    <tr>\n",
       "      <th>Chihuahua</th>\n",
       "      <td>0</td>\n",
       "      <td>1847</td>\n",
       "      <td>2077</td>\n",
       "      <td>3924</td>\n",
       "    </tr>\n",
       "    <tr>\n",
       "      <th>Maltese</th>\n",
       "      <td>1</td>\n",
       "      <td>1283</td>\n",
       "      <td>1681</td>\n",
       "      <td>2965</td>\n",
       "    </tr>\n",
       "  </tbody>\n",
       "</table>\n",
       "</div>"
      ],
      "text/plain": [
       "gender                   F     M  breed1\n",
       "breed1                                  \n",
       "Unknown            2  6268  6628   12898\n",
       "Yorkshire Terrier  1  2233  2899    5133\n",
       "Shih Tzu           1  2029  2697    4727\n",
       "Chihuahua          0  1847  2077    3924\n",
       "Maltese            1  1283  1681    2965"
      ]
     },
     "execution_count": 105,
     "metadata": {},
     "output_type": "execute_result"
    }
   ],
   "source": [
    "breedtab2 = breedtab2.sort_values(by=\"breed1\",ascending=False)\n",
    "breedtab2.head()"
   ]
  },
  {
   "cell_type": "markdown",
   "metadata": {},
   "source": [
    "Now let's look at a subset of the data"
   ]
  },
  {
   "cell_type": "code",
   "execution_count": 16,
   "metadata": {
    "collapsed": true
   },
   "outputs": [],
   "source": [
    "r = p.loc[p.breed1==\"Rottweiler\",:]"
   ]
  },
  {
   "cell_type": "markdown",
   "metadata": {},
   "source": [
    "how many rows and columns?"
   ]
  },
  {
   "cell_type": "code",
   "execution_count": 25,
   "metadata": {
    "collapsed": false
   },
   "outputs": [
    {
     "data": {
      "text/plain": [
       "(467, 15)"
      ]
     },
     "execution_count": 25,
     "metadata": {},
     "output_type": "execute_result"
    }
   ],
   "source": [
    "r.shape"
   ]
  },
  {
   "cell_type": "code",
   "execution_count": 108,
   "metadata": {
    "collapsed": false
   },
   "outputs": [
    {
     "data": {
      "text/plain": [
       "Rocky       10\n",
       "Roxy         6\n",
       "Sasha        5\n",
       "Max          5\n",
       "Tyson        5\n",
       "Samson       4\n",
       "Bella        4\n",
       "Rex          4\n",
       "Ruby         3\n",
       "Apollo       3\n",
       "max          3\n",
       "Bear         3\n",
       "LOLA         3\n",
       "Kuma         2\n",
       "Zoey         2\n",
       "Freya        2\n",
       "Lucky        2\n",
       "Chloe        2\n",
       "Lola         2\n",
       "Princess     2\n",
       "Name: name, dtype: int64"
      ]
     },
     "execution_count": 108,
     "metadata": {},
     "output_type": "execute_result"
    }
   ],
   "source": [
    "r.name.value_counts().head(20)"
   ]
  },
  {
   "cell_type": "markdown",
   "metadata": {},
   "source": [
    "Note that we have both \"LOLA\" and \"Lola\". `str.title()` converts strings to \"title case\" (first letter uppercase, rest lowercase)"
   ]
  },
  {
   "cell_type": "code",
   "execution_count": 109,
   "metadata": {
    "collapsed": false
   },
   "outputs": [
    {
     "data": {
      "text/plain": [
       "Rocky        12\n",
       "Max           9\n",
       "Roxy          7\n",
       "Samson        6\n",
       "Bear          5\n",
       "Lola          5\n",
       "Tyson         5\n",
       "Sasha         5\n",
       "Apollo        4\n",
       "Bella         4\n",
       "Rex           4\n",
       "Chloe         3\n",
       "Ruby          3\n",
       "Unknown       2\n",
       "Mia           2\n",
       "Champ         2\n",
       "Zoey          2\n",
       "Zeus          2\n",
       "Diesel        2\n",
       "Cleopatra     2\n",
       "Name: name, dtype: int64"
      ]
     },
     "execution_count": 109,
     "metadata": {},
     "output_type": "execute_result"
    }
   ],
   "source": [
    "r.name.str.title().value_counts().head(20)"
   ]
  },
  {
   "cell_type": "code",
   "execution_count": 24,
   "metadata": {
    "collapsed": false,
    "scrolled": true
   },
   "outputs": [
    {
     "data": {
      "text/plain": [
       "black      447\n",
       "brown       12\n",
       "tan          3\n",
       "brindle      2\n",
       "rust         1\n",
       "Name: color1, dtype: int64"
      ]
     },
     "execution_count": 24,
     "metadata": {},
     "output_type": "execute_result"
    }
   ],
   "source": [
    "r.color1.str.lower().value_counts().head()"
   ]
  },
  {
   "cell_type": "markdown",
   "metadata": {},
   "source": [
    "## Web scraping\n",
    "\n",
    "Sometimes there's information we want, but it's embedded on a web page, for example [this chart of dog breed weights](https://www.petcarerx.com/article/dog-breed-weight-chart/267). pandas has a `read_html` function that tries to find tables inside a web page ..."
   ]
  },
  {
   "cell_type": "code",
   "execution_count": 112,
   "metadata": {
    "collapsed": false
   },
   "outputs": [],
   "source": [
    "dog_wt_url = \"https://www.petcarerx.com/article/dog-breed-weight-chart/267\"\n",
    "rr = pd.read_html(dog_wt_url)"
   ]
  },
  {
   "cell_type": "markdown",
   "metadata": {},
   "source": [
    "`read_html` returns a list of the tables found. How many are there?"
   ]
  },
  {
   "cell_type": "code",
   "execution_count": 113,
   "metadata": {
    "collapsed": false
   },
   "outputs": [
    {
     "data": {
      "text/plain": [
       "1"
      ]
     },
     "execution_count": 113,
     "metadata": {},
     "output_type": "execute_result"
    }
   ],
   "source": [
    "len(rr)"
   ]
  },
  {
   "cell_type": "markdown",
   "metadata": {},
   "source": [
    "Extract the first (and only) table from the results ..."
   ]
  },
  {
   "cell_type": "code",
   "execution_count": 141,
   "metadata": {
    "collapsed": false
   },
   "outputs": [
    {
     "data": {
      "text/html": [
       "<div>\n",
       "<table border=\"1\" class=\"dataframe\">\n",
       "  <thead>\n",
       "    <tr style=\"text-align: right;\">\n",
       "      <th></th>\n",
       "      <th>0</th>\n",
       "      <th>1</th>\n",
       "    </tr>\n",
       "  </thead>\n",
       "  <tbody>\n",
       "    <tr>\n",
       "      <th>0</th>\n",
       "      <td>Breed</td>\n",
       "      <td>Breed Weight</td>\n",
       "    </tr>\n",
       "    <tr>\n",
       "      <th>1</th>\n",
       "      <td>Affenpinscher</td>\n",
       "      <td>7-9 lb</td>\n",
       "    </tr>\n",
       "    <tr>\n",
       "      <th>2</th>\n",
       "      <td>Afghan Hound</td>\n",
       "      <td>Male: 60 lb; Female: 50 lb</td>\n",
       "    </tr>\n",
       "    <tr>\n",
       "      <th>3</th>\n",
       "      <td>African Boerboels</td>\n",
       "      <td>154-200 lb</td>\n",
       "    </tr>\n",
       "    <tr>\n",
       "      <th>4</th>\n",
       "      <td>Airedale Terrier</td>\n",
       "      <td>55 lb</td>\n",
       "    </tr>\n",
       "  </tbody>\n",
       "</table>\n",
       "</div>"
      ],
      "text/plain": [
       "                   0                           1\n",
       "0              Breed                Breed Weight\n",
       "1      Affenpinscher                      7-9 lb\n",
       "2       Afghan Hound  Male: 60 lb; Female: 50 lb\n",
       "3  African Boerboels                  154-200 lb\n",
       "4   Airedale Terrier                       55 lb"
      ]
     },
     "execution_count": 141,
     "metadata": {},
     "output_type": "execute_result"
    }
   ],
   "source": [
    "rr0 = rr[0]\n",
    "rr0.head()"
   ]
  },
  {
   "cell_type": "markdown",
   "metadata": {},
   "source": [
    "clean up ..."
   ]
  },
  {
   "cell_type": "code",
   "execution_count": 117,
   "metadata": {
    "collapsed": false,
    "scrolled": true
   },
   "outputs": [
    {
     "data": {
      "text/html": [
       "<div>\n",
       "<table border=\"1\" class=\"dataframe\">\n",
       "  <thead>\n",
       "    <tr style=\"text-align: right;\">\n",
       "      <th></th>\n",
       "      <th>breed</th>\n",
       "      <th>weight</th>\n",
       "    </tr>\n",
       "  </thead>\n",
       "  <tbody>\n",
       "    <tr>\n",
       "      <th>2</th>\n",
       "      <td>Afghan Hound</td>\n",
       "      <td>Male: 60 lb; Female: 50 lb</td>\n",
       "    </tr>\n",
       "    <tr>\n",
       "      <th>3</th>\n",
       "      <td>African Boerboels</td>\n",
       "      <td>154-200 lb</td>\n",
       "    </tr>\n",
       "    <tr>\n",
       "      <th>4</th>\n",
       "      <td>Airedale Terrier</td>\n",
       "      <td>55 lb</td>\n",
       "    </tr>\n",
       "    <tr>\n",
       "      <th>5</th>\n",
       "      <td>Akbash</td>\n",
       "      <td>Male: 90-140 lb; Female: 75-105 lb</td>\n",
       "    </tr>\n",
       "    <tr>\n",
       "      <th>6</th>\n",
       "      <td>Akita</td>\n",
       "      <td>Male: 85-115 lb; Female: 65-90 lb</td>\n",
       "    </tr>\n",
       "  </tbody>\n",
       "</table>\n",
       "</div>"
      ],
      "text/plain": [
       "               breed                              weight\n",
       "2       Afghan Hound          Male: 60 lb; Female: 50 lb\n",
       "3  African Boerboels                          154-200 lb\n",
       "4   Airedale Terrier                               55 lb\n",
       "5             Akbash  Male: 90-140 lb; Female: 75-105 lb\n",
       "6              Akita   Male: 85-115 lb; Female: 65-90 lb"
      ]
     },
     "execution_count": 117,
     "metadata": {},
     "output_type": "execute_result"
    }
   ],
   "source": [
    "rr0 = rr0.iloc[1:,]\n",
    "rr0.columns = [\"breed\",\"weight\"]\n",
    "rr0.head()"
   ]
  },
  {
   "cell_type": "markdown",
   "metadata": {},
   "source": [
    "This would take a bit more effort to process.  Ideally I would split the male and female values (and duplicate them for species with only one value given), and average ranges where given. pandas has a lot of tools (as `.str.*` methods) for dealing with this stuff, but I didn't have enough time to figure it all out. It would be less efficient, but I could also try a good old-fashioned `for` loop with a bunch of `if` statements (if male and female; if range; etc.)"
   ]
  },
  {
   "cell_type": "code",
   "execution_count": 140,
   "metadata": {
    "collapsed": false
   },
   "outputs": [
    {
     "data": {
      "text/plain": [
       "2        NaN\n",
       "3    154-200\n",
       "4        NaN\n",
       "5     90-140\n",
       "6     85-115\n",
       "Name: weight, dtype: object"
      ]
     },
     "execution_count": 140,
     "metadata": {},
     "output_type": "execute_result"
    }
   ],
   "source": [
    "wt2_male = rr0.weight\n",
    "wt2_female = rr0.weight\n",
    "twosex = rr0.weight.str.contains(\"Male\")\n",
    "rr0.weight.str.extract('([0-9]+-[0-9]+)',expand=False).head()\n"
   ]
  },
  {
   "cell_type": "markdown",
   "metadata": {},
   "source": [
    "We want to combine the weight data with the breed data, matching by breed. This is called a *database join*, `merge` in pandas ..."
   ]
  },
  {
   "cell_type": "code",
   "execution_count": 121,
   "metadata": {
    "collapsed": false
   },
   "outputs": [
    {
     "data": {
      "text/html": [
       "<div>\n",
       "<table border=\"1\" class=\"dataframe\">\n",
       "  <thead>\n",
       "    <tr style=\"text-align: right;\">\n",
       "      <th></th>\n",
       "      <th>name</th>\n",
       "      <th>gender</th>\n",
       "      <th>breed1</th>\n",
       "      <th>weight</th>\n",
       "    </tr>\n",
       "  </thead>\n",
       "  <tbody>\n",
       "    <tr>\n",
       "      <th>0</th>\n",
       "      <td>Ali</td>\n",
       "      <td>M</td>\n",
       "      <td>Basenji</td>\n",
       "      <td>Male: 24 lb; Female: 22 lb</td>\n",
       "    </tr>\n",
       "    <tr>\n",
       "      <th>1</th>\n",
       "      <td>Jones</td>\n",
       "      <td>M</td>\n",
       "      <td>Basenji</td>\n",
       "      <td>Male: 24 lb; Female: 22 lb</td>\n",
       "    </tr>\n",
       "    <tr>\n",
       "      <th>2</th>\n",
       "      <td>Pippi</td>\n",
       "      <td>F</td>\n",
       "      <td>Basenji</td>\n",
       "      <td>Male: 24 lb; Female: 22 lb</td>\n",
       "    </tr>\n",
       "    <tr>\n",
       "      <th>3</th>\n",
       "      <td>Willa</td>\n",
       "      <td>F</td>\n",
       "      <td>Basenji</td>\n",
       "      <td>Male: 24 lb; Female: 22 lb</td>\n",
       "    </tr>\n",
       "    <tr>\n",
       "      <th>4</th>\n",
       "      <td>Macy</td>\n",
       "      <td>F</td>\n",
       "      <td>Basenji</td>\n",
       "      <td>Male: 24 lb; Female: 22 lb</td>\n",
       "    </tr>\n",
       "  </tbody>\n",
       "</table>\n",
       "</div>"
      ],
      "text/plain": [
       "    name gender   breed1                      weight\n",
       "0    Ali      M  Basenji  Male: 24 lb; Female: 22 lb\n",
       "1  Jones      M  Basenji  Male: 24 lb; Female: 22 lb\n",
       "2  Pippi      F  Basenji  Male: 24 lb; Female: 22 lb\n",
       "3  Willa      F  Basenji  Male: 24 lb; Female: 22 lb\n",
       "4   Macy      F  Basenji  Male: 24 lb; Female: 22 lb"
      ]
     },
     "execution_count": 121,
     "metadata": {},
     "output_type": "execute_result"
    }
   ],
   "source": [
    "pp = pd.merge(p,rr0,left_on=\"breed1\",right_on=\"breed\")\n",
    "pp[[\"name\",\"gender\",\"breed1\",\"weight\"]].head()"
   ]
  },
  {
   "cell_type": "markdown",
   "metadata": {},
   "source": [
    "## failed attempts to draw maps"
   ]
  },
  {
   "cell_type": "code",
   "execution_count": 63,
   "metadata": {
    "collapsed": false
   },
   "outputs": [],
   "source": [
    "import shapefile ## pip3 install pyShp"
   ]
  },
  {
   "cell_type": "code",
   "execution_count": 64,
   "metadata": {
    "collapsed": true
   },
   "outputs": [],
   "source": [
    "sf = shapefile.Reader(\"../data/ZIP_CODE_040114.shp\")"
   ]
  },
  {
   "cell_type": "code",
   "execution_count": 65,
   "metadata": {
    "collapsed": false
   },
   "outputs": [
    {
     "data": {
      "text/plain": [
       "<shapefile.Reader at 0x7f39670ba390>"
      ]
     },
     "execution_count": 65,
     "metadata": {},
     "output_type": "execute_result"
    }
   ],
   "source": [
    "sf"
   ]
  },
  {
   "cell_type": "code",
   "execution_count": 67,
   "metadata": {
    "collapsed": false
   },
   "outputs": [
    {
     "data": {
      "text/plain": [
       "263"
      ]
     },
     "execution_count": 67,
     "metadata": {},
     "output_type": "execute_result"
    }
   ],
   "source": [
    "len(sf.shapes())"
   ]
  },
  {
   "cell_type": "code",
   "execution_count": 79,
   "metadata": {
    "collapsed": false
   },
   "outputs": [],
   "source": [
    "import json\n",
    "zipdatafile = '../data/nyc-zip-code-tabulation-areas-polygons.geojson.json'\n",
    "with open(zipdatafile) as f:\n",
    "    data = json.load(f)\n"
   ]
  },
  {
   "cell_type": "code",
   "execution_count": 93,
   "metadata": {
    "collapsed": false
   },
   "outputs": [
    {
     "data": {
      "text/html": [
       "\n",
       "           <script>\n",
       "               \n",
       "                function vct_load_lib(url, callback){\n",
       "                      if(typeof d3 !== 'undefined' &&\n",
       "                         url === 'http://d3js.org/d3.v3.min.js'){\n",
       "                        callback()\n",
       "                      }\n",
       "                      var s = document.createElement('script');\n",
       "                      s.src = url;\n",
       "                      s.async = true;\n",
       "                      s.onreadystatechange = s.onload = callback;\n",
       "                      s.onerror = function(){\n",
       "                        console.warn(\"failed to load library \" + url);\n",
       "                        };\n",
       "                      document.getElementsByTagName(\"head\")[0].appendChild(s);\n",
       "                };\n",
       "                var vincent_event = new CustomEvent(\n",
       "                  \"vincent_libs_loaded\",\n",
       "                  {bubbles: true, cancelable: true}\n",
       "                );\n",
       "                \n",
       "               function load_all_libs(){\n",
       "                  console.log('Loading Vincent libs...')\n",
       "                  vct_load_lib('http://d3js.org/d3.v3.min.js', function(){\n",
       "                  vct_load_lib('http://d3js.org/d3.geo.projection.v0.min.js', function(){\n",
       "                  vct_load_lib('http://wrobstory.github.io/d3-cloud/d3.layout.cloud.js', function(){\n",
       "                  vct_load_lib('http://wrobstory.github.io/vega/vega.v1.3.3.js', function(){\n",
       "                  window.dispatchEvent(vincent_event);\n",
       "                  });\n",
       "                  });\n",
       "                  });\n",
       "                  });\n",
       "               };\n",
       "               if(typeof define === \"function\" && define.amd){\n",
       "                    if (window['d3'] === undefined ||\n",
       "                        window['topojson'] === undefined){\n",
       "                        require.config(\n",
       "                            {paths: {\n",
       "                              d3: 'http://d3js.org/d3.v3.min',\n",
       "                              topojson: 'http://d3js.org/topojson.v1.min'\n",
       "                              }\n",
       "                            }\n",
       "                          );\n",
       "                        require([\"d3\"], function(d3){\n",
       "                            console.log('Loading Vincent from require.js...')\n",
       "                            window.d3 = d3;\n",
       "                            require([\"topojson\"], function(topojson){\n",
       "                                window.topojson = topojson;\n",
       "                                load_all_libs();\n",
       "                            });\n",
       "                        });\n",
       "                    } else {\n",
       "                        load_all_libs();\n",
       "                    };\n",
       "               }else{\n",
       "                    console.log('Require.js not found, loading manually...')\n",
       "                    load_all_libs();\n",
       "               };\n",
       "\n",
       "           </script>"
      ],
      "text/plain": [
       "<IPython.core.display.HTML object>"
      ]
     },
     "metadata": {},
     "output_type": "display_data"
    },
    {
     "data": {
      "text/html": [
       "<div id=\"vis7935147f6c47400aa9f6f4a311c7babe\"></div>\n",
       "<script>\n",
       "   ( function() {\n",
       "     var _do_plot = function() {\n",
       "       if (typeof vg === 'undefined') {\n",
       "         window.addEventListener('vincent_libs_loaded', _do_plot)\n",
       "         return;\n",
       "       }\n",
       "       vg.parse.spec({\"axes\": [], \"data\": [{\"format\": {\"feature\": \"world-countries\", \"type\": \"topojson\"}, \"name\": \"countries\", \"transform\": [{\"projection\": \"winkel3\", \"scale\": 200, \"translate\": [480.0, 250.0], \"type\": \"geopath\", \"value\": \"data\"}], \"url\": \"world-countries.topo.json\"}], \"height\": 500, \"legends\": [], \"marks\": [{\"from\": {\"data\": \"countries\"}, \"properties\": {\"enter\": {\"path\": {\"field\": \"path\"}, \"stroke\": {\"value\": \"#000000\"}}, \"update\": {\"fill\": {\"value\": \"steelblue\"}}}, \"type\": \"path\"}], \"padding\": \"auto\", \"scales\": [], \"width\": 960}, function(chart) {\n",
       "         chart({el: \"#vis7935147f6c47400aa9f6f4a311c7babe\"}).update();\n",
       "       });\n",
       "     };\n",
       "     _do_plot();\n",
       "   })();\n",
       "</script>\n",
       "<style>.vega canvas {width: 100%;}</style>\n",
       "        "
      ],
      "text/plain": [
       "<IPython.core.display.HTML object>"
      ]
     },
     "metadata": {},
     "output_type": "display_data"
    }
   ],
   "source": [
    "import vincent\n",
    "vincent.core.initialize_notebook()\n",
    "world_topo = r'world-countries.topo.json'\n",
    "geo_data = [{'name': 'countries',\n",
    "             'url': world_topo,\n",
    "             'feature': 'world-countries'}]\n",
    "\n",
    "vis = vincent.Map(geo_data=geo_data, scale=200)\n",
    "##vis.display()\n",
    "\n"
   ]
  },
  {
   "cell_type": "code",
   "execution_count": 96,
   "metadata": {
    "collapsed": false
   },
   "outputs": [
    {
     "data": {
      "text/html": [
       "<div id=\"vise7071c36ee9b48518f44cb092d2ddb0f\"></div>\n",
       "<script>\n",
       "   ( function() {\n",
       "     var _do_plot = function() {\n",
       "       if (typeof vg === 'undefined') {\n",
       "         window.addEventListener('vincent_libs_loaded', _do_plot)\n",
       "         return;\n",
       "       }\n",
       "       vg.parse.spec({\"axes\": [], \"data\": [{\"format\": {\"feature\": \"abc\", \"type\": \"topojson\"}, \"name\": \"zipcodes\", \"transform\": [{\"projection\": \"winkel3\", \"translate\": [480.0, 250.0], \"type\": \"geopath\", \"value\": \"data\"}], \"url\": \"../data/nyc-zip-code-tabulation-areas-polygons.geojson.json\"}], \"height\": 500, \"legends\": [], \"marks\": [{\"from\": {\"data\": \"zipcodes\"}, \"properties\": {\"enter\": {\"path\": {\"field\": \"path\"}, \"stroke\": {\"value\": \"#000000\"}}, \"update\": {\"fill\": {\"value\": \"steelblue\"}}}, \"type\": \"path\"}], \"padding\": \"auto\", \"scales\": [], \"width\": 960}, function(chart) {\n",
       "         chart({el: \"#vise7071c36ee9b48518f44cb092d2ddb0f\"}).update();\n",
       "       });\n",
       "     };\n",
       "     _do_plot();\n",
       "   })();\n",
       "</script>\n",
       "<style>.vega canvas {width: 100%;}</style>\n",
       "        "
      ],
      "text/plain": [
       "<IPython.core.display.HTML object>"
      ]
     },
     "metadata": {},
     "output_type": "display_data"
    }
   ],
   "source": [
    "z2 = r'../data/nyc-zip-code-tabulation-areas-polygons.geojson.json'\n",
    "geo_data = [{'name': 'zipcodes',\n",
    "             'url': z2,\n",
    "             'feature': 'abc'}]\n",
    "\n",
    "vis = vincent.Map(geo_data=geo_data)\n",
    "vis.display()\n",
    "##vis = vincent.Map(geo_data=zipdata)"
   ]
  }
 ],
 "metadata": {
  "kernelspec": {
   "display_name": "Python 3",
   "language": "python",
   "name": "python3"
  },
  "language_info": {
   "codemirror_mode": {
    "name": "ipython",
    "version": 3
   },
   "file_extension": ".py",
   "mimetype": "text/x-python",
   "name": "python",
   "nbconvert_exporter": "python",
   "pygments_lexer": "ipython3",
   "version": "3.4.3"
  }
 },
 "nbformat": 4,
 "nbformat_minor": 0
}
