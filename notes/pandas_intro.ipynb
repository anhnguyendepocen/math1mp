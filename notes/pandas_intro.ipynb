{
 "cells": [
  {
   "cell_type": "markdown",
   "metadata": {
    "collapsed": false
   },
   "source": [
    "# Intro to `pandas`\n",
    "\n",
    "`pandas` is the `panel data system` ([comments on pronunciation](https://twitter.com/wesmckinn/status/706529447965433856))\n",
    "\n",
    "## Super-basic intro\n",
    "\n",
    "Material here includes basic examples taken from the [learn-pandas Bitbucket repo](https://bitbucket.org/hrojas/learn-pandas)\n",
    "\n",
    "Set up a small `DataFrame` for experimenting. This is artificial, as we will almost always be importing data from some external source ..."
   ]
  },
  {
   "cell_type": "code",
   "execution_count": 3,
   "metadata": {
    "collapsed": false
   },
   "outputs": [
    {
     "data": {
      "text/html": [
       "<div>\n",
       "<table border=\"1\" class=\"dataframe\">\n",
       "  <thead>\n",
       "    <tr style=\"text-align: right;\">\n",
       "      <th></th>\n",
       "      <th>Count</th>\n",
       "      <th>Name</th>\n",
       "    </tr>\n",
       "  </thead>\n",
       "  <tbody>\n",
       "    <tr>\n",
       "      <th>0</th>\n",
       "      <td>968</td>\n",
       "      <td>Bob</td>\n",
       "    </tr>\n",
       "    <tr>\n",
       "      <th>1</th>\n",
       "      <td>155</td>\n",
       "      <td>Jessica</td>\n",
       "    </tr>\n",
       "    <tr>\n",
       "      <th>2</th>\n",
       "      <td>77</td>\n",
       "      <td>Mary</td>\n",
       "    </tr>\n",
       "    <tr>\n",
       "      <th>3</th>\n",
       "      <td>578</td>\n",
       "      <td>John</td>\n",
       "    </tr>\n",
       "    <tr>\n",
       "      <th>4</th>\n",
       "      <td>973</td>\n",
       "      <td>Mel</td>\n",
       "    </tr>\n",
       "  </tbody>\n",
       "</table>\n",
       "</div>"
      ],
      "text/plain": [
       "   Count     Name\n",
       "0    968      Bob\n",
       "1    155  Jessica\n",
       "2     77     Mary\n",
       "3    578     John\n",
       "4    973      Mel"
      ]
     },
     "execution_count": 3,
     "metadata": {},
     "output_type": "execute_result"
    }
   ],
   "source": [
    "import pandas as pd\n",
    "# The initial set of baby names and birth rates\n",
    "names = ['Bob','Jessica','Mary','John','Mel']\n",
    "births = [968, 155, 77, 578, 973]\n",
    "p = pd.DataFrame({\"Name\":names,\"Count\":births})\n",
    "p    ## notebooks automatically print the *last* result returned in each chunk"
   ]
  },
  {
   "cell_type": "markdown",
   "metadata": {},
   "source": [
    "Various ways of indexing. (Note the current example is a little artificial; normally the columns (`Series`) within the data frame will have meaningful names we'll use to index. In addition, the rows may have a **key** assigned that we'll be able to use to (very efficiently) index and sort by row.  For now, though, the column and row indices are just integers ...)"
   ]
  },
  {
   "cell_type": "code",
   "execution_count": 25,
   "metadata": {
    "collapsed": false
   },
   "outputs": [
    {
     "data": {
      "text/html": [
       "<div>\n",
       "<table border=\"1\" class=\"dataframe\">\n",
       "  <thead>\n",
       "    <tr style=\"text-align: right;\">\n",
       "      <th></th>\n",
       "      <th>Count</th>\n",
       "      <th>Name</th>\n",
       "    </tr>\n",
       "  </thead>\n",
       "  <tbody>\n",
       "    <tr>\n",
       "      <th>2</th>\n",
       "      <td>77</td>\n",
       "      <td>Mary</td>\n",
       "    </tr>\n",
       "    <tr>\n",
       "      <th>3</th>\n",
       "      <td>578</td>\n",
       "      <td>John</td>\n",
       "    </tr>\n",
       "  </tbody>\n",
       "</table>\n",
       "</div>"
      ],
      "text/plain": [
       "   Count  Name\n",
       "2     77  Mary\n",
       "3    578  John"
      ]
     },
     "execution_count": 25,
     "metadata": {},
     "output_type": "execute_result"
    }
   ],
   "source": [
    "p.loc[2:3,\"Count\":\"Name\"]"
   ]
  },
  {
   "cell_type": "code",
   "execution_count": 3,
   "metadata": {
    "collapsed": false
   },
   "outputs": [
    {
     "data": {
      "text/plain": [
       "'Jessica'"
      ]
     },
     "execution_count": 3,
     "metadata": {},
     "output_type": "execute_result"
    }
   ],
   "source": [
    "p[\"Name\"]        ## extract a column = Series (by *name*)\n",
    "p[2:3]      ## slice one row\n",
    "p[2:5]      ## slice multiple rows\n",
    "p[[\"Name\",\"Count\"]]    ## extract multiple columns (data frame)\n",
    "p.iloc[1,1] ## index with row/column integers like an array"
   ]
  },
  {
   "cell_type": "code",
   "execution_count": 4,
   "metadata": {
    "collapsed": false
   },
   "outputs": [
    {
     "data": {
      "text/plain": [
       "1    Jessica\n",
       "2       Mary\n",
       "Name: Name, dtype: object"
      ]
     },
     "execution_count": 4,
     "metadata": {},
     "output_type": "execute_result"
    }
   ],
   "source": [
    "p[\"Name\"]          ## extract by column index (name)    \n",
    "p.Name             ## extract as attribute\n",
    "p.loc[1:2,\"Name\"]  ## index by *label*, _inclusive_"
   ]
  },
  {
   "cell_type": "markdown",
   "metadata": {},
   "source": [
    "Figuring out where I am so I can find the appropriate data file ..."
   ]
  },
  {
   "cell_type": "code",
   "execution_count": 5,
   "metadata": {
    "collapsed": false,
    "scrolled": true
   },
   "outputs": [
    {
     "data": {
      "text/plain": [
       "'/media/sf_Documents/classes/math1mp3/math1mp/notes'"
      ]
     },
     "execution_count": 5,
     "metadata": {},
     "output_type": "execute_result"
    }
   ],
   "source": [
    "import os\n",
    "os.getcwd()"
   ]
  },
  {
   "cell_type": "markdown",
   "metadata": {},
   "source": [
    "# Measles data\n",
    "\n",
    "I downloaded US measles data from [Project Tycho](https://www.tycho.pitt.edu/index.php).\n",
    "\n",
    "- `read_csv` reads a CSV file as a **data frame**; it automatically interprets the first row as headings\n",
    "- `df.head()` shows just at the beginning; `df.tail()` shows just the end\n",
    "\n",
    "\n",
    "\n"
   ]
  },
  {
   "cell_type": "code",
   "execution_count": 26,
   "metadata": {
    "collapsed": false,
    "scrolled": false
   },
   "outputs": [],
   "source": [
    "v = \"./MEASLES_Cases_1909-2001_20150322001618.csv\"  ## file name\n",
    "## read in data from a CSV file ...\n",
    "p  = pd.read_csv(v,\n",
    "                 skiprows=2,    ## first two rows are junk (metadata)\n",
    "                 na_values=[\"-\"] ## missing values\n",
    "                )     "
   ]
  },
  {
   "cell_type": "code",
   "execution_count": 27,
   "metadata": {
    "collapsed": false
   },
   "outputs": [
    {
     "name": "stdout",
     "output_type": "stream",
     "text": [
      "<class 'pandas.core.frame.DataFrame'>\n",
      "RangeIndex: 4861 entries, 0 to 4860\n",
      "Data columns (total 62 columns):\n",
      "YEAR                        4861 non-null int64\n",
      "WEEK                        4861 non-null int64\n",
      "ALABAMA                     2154 non-null float64\n",
      "ALASKA                      704 non-null float64\n",
      "AMERICAN SAMOA              3 non-null float64\n",
      "ARIZONA                     2353 non-null float64\n",
      "ARKANSAS                    1870 non-null float64\n",
      "CALIFORNIA                  2997 non-null float64\n",
      "COLORADO                    2426 non-null float64\n",
      "CONNECTICUT                 2443 non-null float64\n",
      "DELAWARE                    1860 non-null float64\n",
      "DISTRICT OF COLUMBIA        1834 non-null float64\n",
      "FLORIDA                     2635 non-null float64\n",
      "GEORGIA                     1863 non-null float64\n",
      "GUAM                        11 non-null float64\n",
      "HAWAII                      1022 non-null float64\n",
      "IDAHO                       2089 non-null float64\n",
      "ILLINOIS                    2736 non-null float64\n",
      "INDIANA                     2585 non-null float64\n",
      "IOWA                        2281 non-null float64\n",
      "KANSAS                      1688 non-null float64\n",
      "KENTUCKY                    2329 non-null float64\n",
      "LOUISIANA                   1990 non-null float64\n",
      "MAINE                       2138 non-null float64\n",
      "MARYLAND                    2297 non-null float64\n",
      "MASSACHUSETTS               2558 non-null float64\n",
      "MICHIGAN                    2736 non-null float64\n",
      "MINNESOTA                   2233 non-null float64\n",
      "MISSISSIPPI                 1240 non-null float64\n",
      "MISSOURI                    2259 non-null float64\n",
      "MONTANA                     2192 non-null float64\n",
      "NEBRASKA                    1950 non-null float64\n",
      "NEVADA                      951 non-null float64\n",
      "NEW HAMPSHIRE               1868 non-null float64\n",
      "NEW JERSEY                  2535 non-null float64\n",
      "NEW MEXICO                  2045 non-null float64\n",
      "NEW YORK                    1804 non-null float64\n",
      "NEW YORK CITY               1039 non-null float64\n",
      "NORTH CAROLINA              2282 non-null float64\n",
      "NORTH DAKOTA                2163 non-null float64\n",
      "NORTHERN MARIANA ISLANDS    13 non-null float64\n",
      "OHIO                        2561 non-null float64\n",
      "OKLAHOMA                    2160 non-null float64\n",
      "OREGON                      2413 non-null float64\n",
      "PAC TRUST TERR              10 non-null float64\n",
      "PENNSYLVANIA                2585 non-null float64\n",
      "PUERTO RICO                 1375 non-null float64\n",
      "RHODE ISLAND                1844 non-null float64\n",
      "SOUTH CAROLINA              2157 non-null float64\n",
      "SOUTH DAKOTA                1646 non-null float64\n",
      "TENNESSEE                   2389 non-null float64\n",
      "TEXAS                       2820 non-null float64\n",
      "UPSTATE NEW YORK            996 non-null float64\n",
      "UTAH                        2139 non-null float64\n",
      "VERMONT                     2038 non-null float64\n",
      "VIRGIN ISLANDS              73 non-null float64\n",
      "VIRGINIA                    2309 non-null float64\n",
      "WASHINGTON                  2523 non-null float64\n",
      "WEST VIRGINIA               2528 non-null float64\n",
      "WISCONSIN                   2666 non-null float64\n",
      "WYOMING                     1765 non-null float64\n",
      "Unnamed: 61                 0 non-null float64\n",
      "dtypes: float64(60), int64(2)\n",
      "memory usage: 2.3 MB\n"
     ]
    }
   ],
   "source": [
    "p.info()"
   ]
  },
  {
   "cell_type": "markdown",
   "metadata": {},
   "source": [
    "`.info()` gives us basic information about a DataFrame (doing a little bit of magic here so we don't have to look at the whole thing, which is long)"
   ]
  },
  {
   "cell_type": "code",
   "execution_count": 7,
   "metadata": {
    "collapsed": false,
    "scrolled": false
   },
   "outputs": [],
   "source": [
    "%%capture capt\n",
    "p.info()"
   ]
  },
  {
   "cell_type": "code",
   "execution_count": 8,
   "metadata": {
    "collapsed": false
   },
   "outputs": [
    {
     "name": "stdout",
     "output_type": "stream",
     "text": [
      "<class 'pandas.core.frame.DataFrame'>\n",
      "RangeIndex: 4861 entries, 0 to 4860\n",
      "Data columns (total 62 columns):\n",
      "YEAR                        4861 non-null int64\n",
      "WEEK                        4861 non-null int64\n",
      "ALABAMA                     2154 non-null float64\n",
      "ALASKA                      704 non-null float64\n",
      "AMERICAN SAMOA              3 non-null float64\n",
      "ARIZONA                     2353 non-null float64\n",
      "ARKANSAS                    1870 non-null float64\n",
      "CALIFORNIA                  2997 non-null float64\n",
      "...\n"
     ]
    }
   ],
   "source": [
    "print(capt.stdout[0:499]+\"...\")  # print first 499 characters of output"
   ]
  },
  {
   "cell_type": "code",
   "execution_count": 9,
   "metadata": {
    "collapsed": false,
    "scrolled": true
   },
   "outputs": [
    {
     "data": {
      "text/html": [
       "<div>\n",
       "<table border=\"1\" class=\"dataframe\">\n",
       "  <thead>\n",
       "    <tr style=\"text-align: right;\">\n",
       "      <th></th>\n",
       "      <th>YEAR</th>\n",
       "      <th>WEEK</th>\n",
       "      <th>ALABAMA</th>\n",
       "      <th>ALASKA</th>\n",
       "      <th>AMERICAN SAMOA</th>\n",
       "      <th>ARIZONA</th>\n",
       "      <th>ARKANSAS</th>\n",
       "      <th>CALIFORNIA</th>\n",
       "      <th>COLORADO</th>\n",
       "      <th>CONNECTICUT</th>\n",
       "      <th>...</th>\n",
       "      <th>UPSTATE NEW YORK</th>\n",
       "      <th>UTAH</th>\n",
       "      <th>VERMONT</th>\n",
       "      <th>VIRGIN ISLANDS</th>\n",
       "      <th>VIRGINIA</th>\n",
       "      <th>WASHINGTON</th>\n",
       "      <th>WEST VIRGINIA</th>\n",
       "      <th>WISCONSIN</th>\n",
       "      <th>WYOMING</th>\n",
       "      <th>Unnamed: 61</th>\n",
       "    </tr>\n",
       "  </thead>\n",
       "  <tbody>\n",
       "    <tr>\n",
       "      <th>0</th>\n",
       "      <td>1909</td>\n",
       "      <td>1</td>\n",
       "      <td>NaN</td>\n",
       "      <td>NaN</td>\n",
       "      <td>NaN</td>\n",
       "      <td>NaN</td>\n",
       "      <td>NaN</td>\n",
       "      <td>NaN</td>\n",
       "      <td>NaN</td>\n",
       "      <td>NaN</td>\n",
       "      <td>...</td>\n",
       "      <td>NaN</td>\n",
       "      <td>NaN</td>\n",
       "      <td>NaN</td>\n",
       "      <td>NaN</td>\n",
       "      <td>NaN</td>\n",
       "      <td>NaN</td>\n",
       "      <td>NaN</td>\n",
       "      <td>NaN</td>\n",
       "      <td>NaN</td>\n",
       "      <td>NaN</td>\n",
       "    </tr>\n",
       "    <tr>\n",
       "      <th>1</th>\n",
       "      <td>1909</td>\n",
       "      <td>2</td>\n",
       "      <td>NaN</td>\n",
       "      <td>NaN</td>\n",
       "      <td>NaN</td>\n",
       "      <td>NaN</td>\n",
       "      <td>NaN</td>\n",
       "      <td>NaN</td>\n",
       "      <td>NaN</td>\n",
       "      <td>NaN</td>\n",
       "      <td>...</td>\n",
       "      <td>NaN</td>\n",
       "      <td>NaN</td>\n",
       "      <td>NaN</td>\n",
       "      <td>NaN</td>\n",
       "      <td>NaN</td>\n",
       "      <td>NaN</td>\n",
       "      <td>NaN</td>\n",
       "      <td>NaN</td>\n",
       "      <td>NaN</td>\n",
       "      <td>NaN</td>\n",
       "    </tr>\n",
       "    <tr>\n",
       "      <th>2</th>\n",
       "      <td>1909</td>\n",
       "      <td>3</td>\n",
       "      <td>NaN</td>\n",
       "      <td>NaN</td>\n",
       "      <td>NaN</td>\n",
       "      <td>NaN</td>\n",
       "      <td>NaN</td>\n",
       "      <td>NaN</td>\n",
       "      <td>NaN</td>\n",
       "      <td>NaN</td>\n",
       "      <td>...</td>\n",
       "      <td>NaN</td>\n",
       "      <td>NaN</td>\n",
       "      <td>NaN</td>\n",
       "      <td>NaN</td>\n",
       "      <td>NaN</td>\n",
       "      <td>NaN</td>\n",
       "      <td>NaN</td>\n",
       "      <td>NaN</td>\n",
       "      <td>NaN</td>\n",
       "      <td>NaN</td>\n",
       "    </tr>\n",
       "    <tr>\n",
       "      <th>3</th>\n",
       "      <td>1909</td>\n",
       "      <td>4</td>\n",
       "      <td>NaN</td>\n",
       "      <td>NaN</td>\n",
       "      <td>NaN</td>\n",
       "      <td>NaN</td>\n",
       "      <td>NaN</td>\n",
       "      <td>NaN</td>\n",
       "      <td>NaN</td>\n",
       "      <td>NaN</td>\n",
       "      <td>...</td>\n",
       "      <td>NaN</td>\n",
       "      <td>NaN</td>\n",
       "      <td>NaN</td>\n",
       "      <td>NaN</td>\n",
       "      <td>NaN</td>\n",
       "      <td>NaN</td>\n",
       "      <td>NaN</td>\n",
       "      <td>NaN</td>\n",
       "      <td>NaN</td>\n",
       "      <td>NaN</td>\n",
       "    </tr>\n",
       "    <tr>\n",
       "      <th>4</th>\n",
       "      <td>1909</td>\n",
       "      <td>5</td>\n",
       "      <td>NaN</td>\n",
       "      <td>NaN</td>\n",
       "      <td>NaN</td>\n",
       "      <td>NaN</td>\n",
       "      <td>NaN</td>\n",
       "      <td>NaN</td>\n",
       "      <td>NaN</td>\n",
       "      <td>NaN</td>\n",
       "      <td>...</td>\n",
       "      <td>NaN</td>\n",
       "      <td>NaN</td>\n",
       "      <td>NaN</td>\n",
       "      <td>NaN</td>\n",
       "      <td>NaN</td>\n",
       "      <td>NaN</td>\n",
       "      <td>NaN</td>\n",
       "      <td>NaN</td>\n",
       "      <td>NaN</td>\n",
       "      <td>NaN</td>\n",
       "    </tr>\n",
       "  </tbody>\n",
       "</table>\n",
       "<p>5 rows × 62 columns</p>\n",
       "</div>"
      ],
      "text/plain": [
       "   YEAR  WEEK  ALABAMA  ALASKA  AMERICAN SAMOA  ARIZONA  ARKANSAS  CALIFORNIA  \\\n",
       "0  1909     1      NaN     NaN             NaN      NaN       NaN         NaN   \n",
       "1  1909     2      NaN     NaN             NaN      NaN       NaN         NaN   \n",
       "2  1909     3      NaN     NaN             NaN      NaN       NaN         NaN   \n",
       "3  1909     4      NaN     NaN             NaN      NaN       NaN         NaN   \n",
       "4  1909     5      NaN     NaN             NaN      NaN       NaN         NaN   \n",
       "\n",
       "   COLORADO  CONNECTICUT     ...       UPSTATE NEW YORK  UTAH  VERMONT  \\\n",
       "0       NaN          NaN     ...                    NaN   NaN      NaN   \n",
       "1       NaN          NaN     ...                    NaN   NaN      NaN   \n",
       "2       NaN          NaN     ...                    NaN   NaN      NaN   \n",
       "3       NaN          NaN     ...                    NaN   NaN      NaN   \n",
       "4       NaN          NaN     ...                    NaN   NaN      NaN   \n",
       "\n",
       "   VIRGIN ISLANDS  VIRGINIA  WASHINGTON  WEST VIRGINIA  WISCONSIN  WYOMING  \\\n",
       "0             NaN       NaN         NaN            NaN        NaN      NaN   \n",
       "1             NaN       NaN         NaN            NaN        NaN      NaN   \n",
       "2             NaN       NaN         NaN            NaN        NaN      NaN   \n",
       "3             NaN       NaN         NaN            NaN        NaN      NaN   \n",
       "4             NaN       NaN         NaN            NaN        NaN      NaN   \n",
       "\n",
       "   Unnamed: 61  \n",
       "0          NaN  \n",
       "1          NaN  \n",
       "2          NaN  \n",
       "3          NaN  \n",
       "4          NaN  \n",
       "\n",
       "[5 rows x 62 columns]"
      ]
     },
     "execution_count": 9,
     "metadata": {},
     "output_type": "execute_result"
    }
   ],
   "source": [
    "p.head()                     ## look at the first few rows\n",
    "## what would p.iloc[:,0:8].head() do?"
   ]
  },
  {
   "cell_type": "markdown",
   "metadata": {},
   "source": [
    "Since this starts at the beginning, before data is available for most states, most of the cells are filled with `NaN` values (which stands for \"not a number\"), which `pandas` uses to denote missingness. However, let's just ignore them for now.\n",
    "\n",
    "Let's be ambitious and plot *all* the data (leaving out the `WEEK` and `YEAR` columns) as a function of time, with a log-scaled y axis (`plt.semilogy()`) ..."
   ]
  },
  {
   "cell_type": "code",
   "execution_count": 29,
   "metadata": {
    "collapsed": false,
    "scrolled": false
   },
   "outputs": [
    {
     "data": {
      "image/png": "[encoded data removed]",
      "text/plain": [
       "<matplotlib.figure.Figure at 0x113473da0>"
      ]
     },
     "metadata": {},
     "output_type": "display_data"
    }
   ],
   "source": [
    "%matplotlib inline\n",
    "import matplotlib.pyplot as plt\n",
    "fig, ax = plt.subplots()\n",
    "all_data = p.loc[:,\"ALABAMA\":\"WYOMING\"]\n",
    "## equivalently: all_data=p.drop([\"YEAR\",\"WEEK\",\"Unnamed: 61\"])\n",
    "ax.plot(all_data);\n",
    "ax.set_ylim((0,10000));\n"
   ]
  },
  {
   "cell_type": "code",
   "execution_count": null,
   "metadata": {
    "collapsed": false
   },
   "outputs": [],
   "source": [
    "import numpy as np\n",
    "a = [1,2,3,np.nan,4]  # make a Series containing an NA value\n",
    "pd.Series(a).isnull()"
   ]
  },
  {
   "cell_type": "markdown",
   "metadata": {},
   "source": [
    "\n",
    "\n",
    "We can use `.isnull()` to test whether values are missing or not (testing whether they are equal to the special value `numpy.nan`  **does not work** ...)\n"
   ]
  },
  {
   "cell_type": "code",
   "execution_count": null,
   "metadata": {
    "collapsed": false
   },
   "outputs": [],
   "source": [
    "p.ALABAMA.isnull().head()"
   ]
  },
  {
   "cell_type": "markdown",
   "metadata": {},
   "source": [
    "`.sum()` applied to a logical array counts the number of `True` values ..."
   ]
  },
  {
   "cell_type": "code",
   "execution_count": null,
   "metadata": {
    "collapsed": false
   },
   "outputs": [],
   "source": [
    "p.ALABAMA.isnull().sum()"
   ]
  },
  {
   "cell_type": "markdown",
   "metadata": {},
   "source": [
    "Let's say we want to get the number of missing values in *every* column. First we'll use `.isnull()` on the whole DataFrame, then `.sum()` to count the number missing in each column"
   ]
  },
  {
   "cell_type": "code",
   "execution_count": null,
   "metadata": {
    "collapsed": false
   },
   "outputs": [],
   "source": [
    "all_missing = all_data.isnull()\n",
    "n_all_miss = all_missing.sum()\n",
    "n_all_miss.head()"
   ]
  },
  {
   "cell_type": "code",
   "execution_count": null,
   "metadata": {
    "collapsed": true
   },
   "outputs": [],
   "source": []
  },
  {
   "cell_type": "code",
   "execution_count": null,
   "metadata": {
    "collapsed": false,
    "scrolled": false
   },
   "outputs": [],
   "source": [
    "plt.hist(n_all_miss)  ## do this in a \"non-pythonic\" way (auto plot setup)\n",
    "plt.xlabel(\"number of missing data points\");\n",
    "plt.ylabel(\"number of columns\");\n"
   ]
  },
  {
   "cell_type": "markdown",
   "metadata": {},
   "source": [
    "- most common result is about 2500 missing values (16 columns)\n",
    "- what columns have the largest numbers of missing values?\n",
    "     - use `sort_values()` to sort; `tail()` to get the last few values\n",
    "     - [method chaining](https://en.wikipedia.org/wiki/Method_chaining) because we're lazy; string the results rather than setting intermediate values"
   ]
  },
  {
   "cell_type": "code",
   "execution_count": null,
   "metadata": {
    "collapsed": false
   },
   "outputs": [],
   "source": [
    "n_all_miss.sort_values().tail(6)"
   ]
  },
  {
   "cell_type": "markdown",
   "metadata": {},
   "source": [
    "We can also do the sum across rows (`axis=1`) and plot the results (number of missing values at each observation time)"
   ]
  },
  {
   "cell_type": "code",
   "execution_count": null,
   "metadata": {
    "collapsed": false
   },
   "outputs": [],
   "source": [
    "tot_missing = all_missing.sum(axis=1)\n",
    "plt.plot(tot_missing);"
   ]
  },
  {
   "cell_type": "markdown",
   "metadata": {},
   "source": [
    "If we try to do any operations with Series with `nan` values in them we're in trouble ..."
   ]
  },
  {
   "cell_type": "code",
   "execution_count": null,
   "metadata": {
    "collapsed": false
   },
   "outputs": [],
   "source": [
    "sum(p.ALABAMA)"
   ]
  },
  {
   "cell_type": "markdown",
   "metadata": {},
   "source": [
    "Unfortunately this makes sense. \"Anything + `nan`\" *should* be `nan`; so should \"Anything * `nan`\" ... If we just want to get rid of `nan` values we can use `.dropna()` ..."
   ]
  },
  {
   "cell_type": "code",
   "execution_count": null,
   "metadata": {
    "collapsed": false
   },
   "outputs": [],
   "source": [
    "ALABAMA_nona = p.ALABAMA.dropna()\n",
    "print(sum(ALABAMA_nona))\n",
    "## ~ (pronounced \"tilde\" or \"twiddle\") is \"logical not\" for pandas objects ...\n",
    "## check: total number of obs, number of non-nan obs computed two ways\n",
    "(len(p.ALABAMA),sum(~p.ALABAMA.isnull()),len(ALABAMA_nona))"
   ]
  },
  {
   "cell_type": "markdown",
   "metadata": {},
   "source": [
    "Now we might want to figure out how far we have to go in a series to find the first non-`NaN` value ... it's a little sneaky we can use `.argmin()` for this ...\n",
    "\n",
    "- `.isnull()` turns `nan` values to `True`, which in turn gets translated to 1 when we do a numerical operation\n",
    "- `.argmin()` returns the index of the **first** occurrence of the minimum value, which is 0 = `False` = not `nan`"
   ]
  },
  {
   "cell_type": "code",
   "execution_count": null,
   "metadata": {
    "collapsed": false
   },
   "outputs": [],
   "source": [
    "first_alabama = p.ALABAMA.isnull().argmin()\n",
    "print(first_alabama)"
   ]
  },
  {
   "cell_type": "markdown",
   "metadata": {},
   "source": [
    "Which time period does this correspond to?"
   ]
  },
  {
   "cell_type": "code",
   "execution_count": null,
   "metadata": {
    "collapsed": false
   },
   "outputs": [],
   "source": [
    "p.loc[first_alabama,\"YEAR\":\"WEEK\"]"
   ]
  },
  {
   "cell_type": "markdown",
   "metadata": {},
   "source": [
    "Let's make a function to simplify this a bit ..."
   ]
  },
  {
   "cell_type": "code",
   "execution_count": null,
   "metadata": {
    "collapsed": false
   },
   "outputs": [],
   "source": [
    "def first_val(x):\n",
    "    return(x.isnull().argmin())"
   ]
  },
  {
   "cell_type": "markdown",
   "metadata": {},
   "source": [
    "Now we want to run this on all of the data columns (not the `YEAR` and `WEEK` columns). We could use a `for` loop, but it's more compact and `pandas`-ish to use `.apply()` for this.  In general, `.apply()` takes *any* function and runs it on each column of a DataFrame. Analogous to using `axis=0` on `numpy` array methods ..."
   ]
  },
  {
   "cell_type": "code",
   "execution_count": null,
   "metadata": {
    "collapsed": false,
    "scrolled": true
   },
   "outputs": [],
   "source": [
    "all_first_vals = all_data.apply(first_val)\n",
    "all_first_vals.head()\n"
   ]
  },
  {
   "cell_type": "markdown",
   "metadata": {},
   "source": [
    "fWhat if we want a histogram of all of the non-`nan` data?  First we `.unstack()` the data to convert it into a single vector, then we `.dropna()`, then we plot the histogram of $\\log(1+x)$ ..."
   ]
  },
  {
   "cell_type": "code",
   "execution_count": null,
   "metadata": {
    "collapsed": false,
    "scrolled": false
   },
   "outputs": [],
   "source": [
    "all_nonna_dat = all_data.unstack().dropna()\n",
    "plt.hist(all_nonna_dat)\n",
    "plt.xlabel(\"number of cases\");"
   ]
  },
  {
   "cell_type": "markdown",
   "metadata": {},
   "source": [
    "Oops, that's not very helpful! Let's try plotting on a log scale instead (we use $\\log_10(1+x)$ to deal with periods with zero cases)"
   ]
  },
  {
   "cell_type": "code",
   "execution_count": null,
   "metadata": {
    "collapsed": false
   },
   "outputs": [],
   "source": [
    "plt.hist(np.log10(1+all_data.unstack().dropna()))\n",
    "plt.xlabel(\"log10(1+cases)\");"
   ]
  },
  {
   "cell_type": "markdown",
   "metadata": {},
   "source": [
    "# Data cleaning\n",
    "\n",
    "Investigate the data. Look at max values for each column ... what are the biggest max values?"
   ]
  },
  {
   "cell_type": "code",
   "execution_count": null,
   "metadata": {
    "collapsed": false,
    "scrolled": true
   },
   "outputs": [],
   "source": [
    "p.max().sort_values().tail()"
   ]
  },
  {
   "cell_type": "markdown",
   "metadata": {},
   "source": [
    "Seems unlikely for the Virgin Islands to have 53000 cases? \n",
    "\n",
    "- Use `plt.scatter` to get points (could also have used `plt.plot(...,\"o\")`); \n",
    "- `p.index` is a special attribute that gives the row numbers of the `DataFrame`\n",
    "- need to use `[]`-indexing for Virgin Islands because there's a space in the column name (i.e., `p.VIRGIN ISLANDS` won't work)"
   ]
  },
  {
   "cell_type": "code",
   "execution_count": null,
   "metadata": {
    "collapsed": false,
    "scrolled": true
   },
   "outputs": [],
   "source": [
    "plt.scatter(p.index,p.KENTUCKY)\n",
    "plt.scatter(p.index,p[\"VIRGIN ISLANDS\"],color=\"red\")\n",
    "plt.scatter(p.index,p.OHIO,color=\"brown\");\n",
    "plt.ylim(0,55000); ## expand y limits slightly"
   ]
  },
  {
   "cell_type": "code",
   "execution_count": null,
   "metadata": {
    "collapsed": false
   },
   "outputs": [],
   "source": [
    "bad_ind = p.index[p[\"VIRGIN ISLANDS\"]>40000] # find bad rows\n",
    "p.loc[bad_ind,\"VIRGIN ISLANDS\"] = np.nan     # set them to missing\n",
    "## shortcut\n",
    "p.loc[p.KENTUCKY>8000,\"KENTUCKY\"] = np.nan"
   ]
  },
  {
   "cell_type": "markdown",
   "metadata": {},
   "source": [
    "check again ..."
   ]
  },
  {
   "cell_type": "code",
   "execution_count": null,
   "metadata": {
    "collapsed": false
   },
   "outputs": [],
   "source": [
    "p.max().sort_values().tail()"
   ]
  },
  {
   "cell_type": "markdown",
   "metadata": {},
   "source": [
    "Of course this doesn't guarantee that the data are clean. If I were being more thorough I would look through the data one bit at a time, e.g. ..."
   ]
  },
  {
   "cell_type": "code",
   "execution_count": 14,
   "metadata": {
    "collapsed": false
   },
   "outputs": [
    {
     "data": {
      "image/png": "[encoded data removed]",
      "text/plain": [
       "<matplotlib.figure.Figure at 0x7fa940230400>"
      ]
     },
     "metadata": {},
     "output_type": "display_data"
    }
   ],
   "source": [
    "fig = plt.figure()\n",
    "for i in range(9):\n",
    "    ax = fig.add_subplot(3,3,i+1)  ## set plot location\n",
    "    ax.set_title(p.columns[2+i])   ## label with state name\n",
    "    ax.set_xticklabels([])         ## get rid of x-axis ticks\n",
    "    ax.semilogy(1+p.iloc[:,2+i]);  ## plot the corresponding column"
   ]
  },
  {
   "cell_type": "markdown",
   "metadata": {
    "collapsed": true
   },
   "source": [
    "## Filtering\n",
    "\n",
    "- Choosing specific rows of a data frame; `&`, `|` ,`~` correspond to `and`, `or`, `not`\n",
    "(individual elements *must* be in parentheses)\n",
    "- Example: find records between 1970 and 1972 where Alabama has more than 50 measles cases reported\n",
    "- For a data range, it would be nice to do `1970 <= p.YEAR <= 1972` but doesn't work ...\n"
   ]
  },
  {
   "cell_type": "code",
   "execution_count": null,
   "metadata": {
    "collapsed": false,
    "scrolled": true
   },
   "outputs": [],
   "source": [
    "p.ALABAMA[(1970 <= p.YEAR) & (p.YEAR <= 1972) & (p.ALABAMA>50)]               "
   ]
  },
  {
   "cell_type": "markdown",
   "metadata": {},
   "source": [
    "## Indexing\n",
    "\n",
    "Use `.index()` to assign an index to the *rows* of a DataFrame; the rows can be used in `.loc()`, will also be included automatically as the x-axis variable in any plots ..."
   ]
  },
  {
   "cell_type": "code",
   "execution_count": null,
   "metadata": {
    "collapsed": false,
    "scrolled": true
   },
   "outputs": [],
   "source": [
    "good_vals = first_val(p.ALABAMA)\n",
    "## drop first bit with many NAs; keep just state columns\n",
    "p_short = p.loc[good_vals:,\"ALABAMA\":\"WYOMING\"]        \n",
    "## save date info for future reference\n",
    "p_dateinfo = p.loc[good_vals:,[\"YEAR\",\"WEEK\"]]       \n",
    "## assign 'Julian date' as index\n",
    "p_short.index = p_dateinfo.YEAR+(p_dateinfo.WEEK-1)/52  \n",
    "## use the same index for both DataFrames\n",
    "p_dateinfo.index = p_short.index                        \n",
    "p_short.head()\n"
   ]
  },
  {
   "cell_type": "markdown",
   "metadata": {},
   "source": [
    "Now plot results, summed across rows at each week: note that the x-axis now reflects date (not just row number)"
   ]
  },
  {
   "cell_type": "code",
   "execution_count": null,
   "metadata": {
    "collapsed": false
   },
   "outputs": [],
   "source": [
    "plt.semilogy(p_short.sum(axis=1))\n",
    "plt.xlabel(\"Date\")\n",
    "plt.ylabel(\"Total cases\");"
   ]
  },
  {
   "cell_type": "markdown",
   "metadata": {},
   "source": [
    "## Aggregation\n",
    "\n",
    "The `.groupby()` and `.aggregate()` functions make it easy to compute averages, means, medians, etc. by any groups you specify in the data.  In this case, for example, we can find the average number of cases by week of year for each state:\n",
    "\n"
   ]
  },
  {
   "cell_type": "code",
   "execution_count": null,
   "metadata": {
    "collapsed": false,
    "scrolled": true
   },
   "outputs": [],
   "source": [
    "p_week = p_short.groupby(p_dateinfo.WEEK)    ## group by week\n",
    "p_week_mean = p_week.aggregate(np.mean)      ## compute mean by week\n",
    "##p_week_mean\n",
    "plt.plot(p_week_mean);                       ## plot"
   ]
  },
  {
   "cell_type": "code",
   "execution_count": null,
   "metadata": {
    "collapsed": false,
    "scrolled": true
   },
   "outputs": [],
   "source": [
    "biweek = 52*(p_dateinfo.YEAR % 2) + p_dateinfo.WEEK\n",
    "p_biweek_mean = p_short.groupby(biweek).aggregate(np.mean) \n",
    "plt.plot(p_biweek_mean);    \n"
   ]
  },
  {
   "cell_type": "code",
   "execution_count": null,
   "metadata": {
    "collapsed": false,
    "scrolled": true
   },
   "outputs": [],
   "source": [
    "p_year_mean = p_short.groupby(p_dateinfo.YEAR).aggregate(np.mean) \n",
    "plt.semilogy(p_year_mean);    \n"
   ]
  },
  {
   "cell_type": "markdown",
   "metadata": {},
   "source": [
    "Still very noisy.  How about a 5-year mean?"
   ]
  },
  {
   "cell_type": "code",
   "execution_count": null,
   "metadata": {
    "collapsed": false,
    "scrolled": true
   },
   "outputs": [],
   "source": [
    "year5 = np.floor(p_dateinfo.YEAR/5)\n",
    "p_5year_mean = p_short.groupby(year5).aggregate(np.mean) \n",
    "plt.semilogy(p_5year_mean);"
   ]
  },
  {
   "cell_type": "code",
   "execution_count": null,
   "metadata": {
    "collapsed": false,
    "scrolled": true
   },
   "outputs": [],
   "source": [
    "p_tot = p_short.sum(axis=1)  ## total cases per week\n",
    "p_5year = p_tot.groupby(year5)\n",
    "p_5year.head()\n",
    "\n",
    "##.aggregate(np.mean) \n",
    "##plt.semilogy(p_5year_totmean);"
   ]
  },
  {
   "cell_type": "markdown",
   "metadata": {},
   "source": [
    "Things get a messy toward the end; the mean keeps declining, but things start to look noisier.  I tried looking at various things (coefficient of variance = std dev/mean, std dev on the log scale ...) but so far I haven't got a statistic that captures my sense of what \"noisier\" means ..."
   ]
  },
  {
   "cell_type": "code",
   "execution_count": null,
   "metadata": {
    "collapsed": false,
    "scrolled": true
   },
   "outputs": [],
   "source": [
    "p_short_log10 = np.log10(1+p_short)      ## log scale\n",
    "p_tot_logstd = p_short_log10.std(axis=1)\n",
    "p_5year_logstd = p_tot_logstd.groupby(year5).aggregate(np.mean) \n",
    "plt.semilogy(p_5year_logstd);"
   ]
  },
  {
   "cell_type": "markdown",
   "metadata": {},
   "source": [
    "## Dates and times\n",
    "\n",
    "[reference](https://docs.python.org/3.0/library/datetime.html)\n",
    "\n",
    "- (Another) complex subject. \n",
    "- Lots of [possible date formats](https://xkcd.com/1179/)\n",
    "- Basic idea: something like `%Y-%m-%d`; separators just match whatever's in your data (usually \"/\" or \"-\"). Results need to be unambiguous, and ambiguity is dangerous (how is day of month specified?  lower case, capital? etc.)\n",
    "- `pandas` tries to guess, but you shouldn't let it.\n"
   ]
  },
  {
   "cell_type": "code",
   "execution_count": null,
   "metadata": {
    "collapsed": false
   },
   "outputs": [],
   "source": [
    "print(pd.to_datetime(\"05-01-2004\"))\n",
    "print(pd.to_datetime(\"05-01-2004\",format=\"%m-%d-%Y\"))\n",
    "print(pd.to_datetime(\"05-01-2004\",format=\"%d-%m-%Y\"))\n",
    "print(pd.to_datetime(\"05/01/2004\",format=\"%d/%m/%Y\"))\n",
    "\n",
    "\n"
   ]
  },
  {
   "cell_type": "markdown",
   "metadata": {},
   "source": [
    "- Time zones and daylight savings time can be a nightmare\n",
    "- May need to have the right number of digits, especially in the absence of separators:\n"
   ]
  },
  {
   "cell_type": "code",
   "execution_count": null,
   "metadata": {
    "collapsed": false
   },
   "outputs": [],
   "source": [
    "print(pd.to_datetime(\"1212004\",format=\"%m%d%Y\"))\n",
    "print(pd.to_datetime(\"12012004\",format=\"%m%d%Y\"))\n",
    "print(pd.to_datetime(\"01212004\",format=\"%m%d%Y\"))"
   ]
  },
  {
   "cell_type": "markdown",
   "metadata": {},
   "source": [
    "For our measles data we have week of year, so things get a little complicated"
   ]
  },
  {
   "cell_type": "code",
   "execution_count": null,
   "metadata": {
    "collapsed": false,
    "scrolled": true
   },
   "outputs": [],
   "source": [
    "yearstr = p_dateinfo.YEAR.apply(format)\n",
    "weekstr = p_dateinfo.WEEK.apply(format,args=[\"02\"])\n",
    "datestr = yearstr+\"-\"+weekstr+\"-0\"\n",
    "print(datestr.head())\n",
    "dateindex = pd.to_datetime(datestr,format=\"%Y-%U-%w\")\n",
    "dateindex.head()"
   ]
  },
  {
   "cell_type": "markdown",
   "metadata": {},
   "source": [
    "Once you have converted variables to real date/time formats, you can more easily group by days, weeks, months, ... etc."
   ]
  }
 ],
 "metadata": {
  "anaconda-cloud": {},
  "kernelspec": {
   "display_name": "Python [default]",
   "language": "python",
   "name": "python3"
  },
  "language_info": {
   "codemirror_mode": {
    "name": "ipython",
    "version": 3
   },
   "file_extension": ".py",
   "mimetype": "text/x-python",
   "name": "python",
   "nbconvert_exporter": "python",
   "pygments_lexer": "ipython3",
   "version": "3.5.2"
  }
 },
 "nbformat": 4,
 "nbformat_minor": 0
}
