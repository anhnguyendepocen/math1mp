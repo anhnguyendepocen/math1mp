{
 "cells": [
  {
   "cell_type": "markdown",
   "metadata": {
    "collapsed": false
   },
   "source": [
    "# Intro to `pandas`\n",
    "\n",
    "`pandas` is the `panel data system` ([comments on pronunciation](https://twitter.com/wesmckinn/status/706529447965433856))\n",
    "\n",
    "## Super-basic intro\n",
    "\n",
    "Material here includes basic examples taken from the [learn-pandas Bitbucket repo](https://bitbucket.org/hrojas/learn-pandas)\n",
    "\n",
    "Set up a small `DataFrame` for experimenting. This is artificial, as we will almost always be importing data from some external source ..."
   ]
  },
  {
   "cell_type": "code",
   "execution_count": 1,
   "metadata": {
    "collapsed": false
   },
   "outputs": [
    {
     "data": {
      "text/html": [
       "<div>\n",
       "<table border=\"1\" class=\"dataframe\">\n",
       "  <thead>\n",
       "    <tr style=\"text-align: right;\">\n",
       "      <th></th>\n",
       "      <th>0</th>\n",
       "      <th>1</th>\n",
       "    </tr>\n",
       "  </thead>\n",
       "  <tbody>\n",
       "    <tr>\n",
       "      <th>0</th>\n",
       "      <td>Bob</td>\n",
       "      <td>968</td>\n",
       "    </tr>\n",
       "    <tr>\n",
       "      <th>1</th>\n",
       "      <td>Jessica</td>\n",
       "      <td>155</td>\n",
       "    </tr>\n",
       "    <tr>\n",
       "      <th>2</th>\n",
       "      <td>Mary</td>\n",
       "      <td>77</td>\n",
       "    </tr>\n",
       "    <tr>\n",
       "      <th>3</th>\n",
       "      <td>John</td>\n",
       "      <td>578</td>\n",
       "    </tr>\n",
       "    <tr>\n",
       "      <th>4</th>\n",
       "      <td>Mel</td>\n",
       "      <td>973</td>\n",
       "    </tr>\n",
       "  </tbody>\n",
       "</table>\n",
       "</div>"
      ],
      "text/plain": [
       "         0    1\n",
       "0      Bob  968\n",
       "1  Jessica  155\n",
       "2     Mary   77\n",
       "3     John  578\n",
       "4      Mel  973"
      ]
     },
     "execution_count": 1,
     "metadata": {},
     "output_type": "execute_result"
    }
   ],
   "source": [
    "import pandas as pd\n",
    "# The initial set of baby names and bith rates\n",
    "names = ['Bob','Jessica','Mary','John','Mel']\n",
    "births = [968, 155, 77, 578, 973]\n",
    "z = list(zip(names,births))\n",
    "p = pd.DataFrame(z)\n",
    "p    ## notebooks automatically print the *last* result returned in each chunk"
   ]
  },
  {
   "cell_type": "markdown",
   "metadata": {},
   "source": [
    "Various ways of indexing. (Note the current example is a little artificial; normally the columns (`Series`) within the data frame will have meaningful names we'll use to index. In addition, the rows may have a **key** assigned that we'll be able to use to (very efficiently) index and sort by row.  For now, though, the column and row indices are just integers ...)"
   ]
  },
  {
   "cell_type": "code",
   "execution_count": 2,
   "metadata": {
    "collapsed": false
   },
   "outputs": [
    {
     "data": {
      "text/plain": [
       "155"
      ]
     },
     "execution_count": 2,
     "metadata": {},
     "output_type": "execute_result"
    }
   ],
   "source": [
    "p[1]        ## extract a column = Series (by *name*)\n",
    "p[2:3]      ## slice one row\n",
    "p[2:5]      ## slice multiple rows\n",
    "p[[0,1]]    ## extract multiple columns (data frame)\n",
    "p.iloc[1,1] ## index with row/column integers like an array"
   ]
  },
  {
   "cell_type": "code",
   "execution_count": 3,
   "metadata": {
    "collapsed": false
   },
   "outputs": [
    {
     "data": {
      "text/plain": [
       "1    Jessica\n",
       "2       Mary\n",
       "Name: names, dtype: object"
      ]
     },
     "execution_count": 3,
     "metadata": {},
     "output_type": "execute_result"
    }
   ],
   "source": [
    "p.rename(columns={0:\"names\", 1:\"count\"}, inplace=True)  ## add names\n",
    "p[\"names\"]          ## extract by column index (name)    \n",
    "p.names             ## extract as attribute\n",
    "p.loc[1:2,\"names\"]  ## index by *label*, _inclusive_"
   ]
  },
  {
   "cell_type": "markdown",
   "metadata": {},
   "source": [
    "Figuring out where I am so I can find the appropriate data file ..."
   ]
  },
  {
   "cell_type": "code",
   "execution_count": 4,
   "metadata": {
    "collapsed": false,
    "scrolled": true
   },
   "outputs": [
    {
     "data": {
      "text/plain": [
       "'/media/sf_Documents/classes/math1mp3/math1mp/notes'"
      ]
     },
     "execution_count": 4,
     "metadata": {},
     "output_type": "execute_result"
    }
   ],
   "source": [
    "import os\n",
    "os.getcwd()"
   ]
  },
  {
   "cell_type": "markdown",
   "metadata": {},
   "source": [
    "# Measles data\n",
    "\n",
    "I downloaded US measles data from [Project Tycho](https://www.tycho.pitt.edu/index.php).\n",
    "\n",
    "- `read_csv` reads a CSV file as a **data frame**; it automatically interprets the first row as headings\n",
    "- `df.head()` shows just at the beginning; `df.tail()` shows just the end\n",
    "\n",
    "\n",
    "\n"
   ]
  },
  {
   "cell_type": "code",
   "execution_count": 5,
   "metadata": {
    "collapsed": false,
    "scrolled": false
   },
   "outputs": [],
   "source": [
    "v = \"./MEASLES_Cases_1909-2001_20150322001618.csv\"  ## file name\n",
    "p  = pd.read_csv(v,skiprows=2,na_values=[\"-\"])      ## read in data"
   ]
  },
  {
   "cell_type": "markdown",
   "metadata": {},
   "source": [
    "`.info()` gives us basic information about a DataFrame (doing a little bit of magic here so we don't have to look at the whole thing, which is long)"
   ]
  },
  {
   "cell_type": "code",
   "execution_count": 6,
   "metadata": {
    "collapsed": false,
    "scrolled": false
   },
   "outputs": [],
   "source": [
    "%%capture capt\n",
    "p.info()"
   ]
  },
  {
   "cell_type": "code",
   "execution_count": 7,
   "metadata": {
    "collapsed": false
   },
   "outputs": [
    {
     "name": "stdout",
     "output_type": "stream",
     "text": [
      "class 'pandas.core.frame.DataFrame'>\n",
      "RangeIndex: 4861 entries, 0 to 4860\n",
      "Data columns (total 62 columns):\n",
      "YEAR                        4861 non-null int64\n",
      "WEEK                        4861 non-null int64\n",
      "ALABAMA                     2154 non-null float64\n",
      "ALASKA                      704 non-null float64\n",
      "AMERICAN SAMOA              3 non-null float64\n",
      "ARIZONA                     2353 non-null float64\n",
      "ARKANSAS                    1870 non-null float64\n",
      "CALIFORNIA                  2997 non-null float64\n",
      "...\n"
     ]
    }
   ],
   "source": [
    "print(capt.stdout[1:499]+\"...\")"
   ]
  },
  {
   "cell_type": "code",
   "execution_count": 8,
   "metadata": {
    "collapsed": false
   },
   "outputs": [
    {
     "data": {
      "text/html": [
       "<div>\n",
       "<table border=\"1\" class=\"dataframe\">\n",
       "  <thead>\n",
       "    <tr style=\"text-align: right;\">\n",
       "      <th></th>\n",
       "      <th>YEAR</th>\n",
       "      <th>WEEK</th>\n",
       "      <th>ALABAMA</th>\n",
       "      <th>ALASKA</th>\n",
       "      <th>AMERICAN SAMOA</th>\n",
       "      <th>ARIZONA</th>\n",
       "      <th>ARKANSAS</th>\n",
       "      <th>CALIFORNIA</th>\n",
       "      <th>COLORADO</th>\n",
       "      <th>CONNECTICUT</th>\n",
       "      <th>...</th>\n",
       "      <th>UPSTATE NEW YORK</th>\n",
       "      <th>UTAH</th>\n",
       "      <th>VERMONT</th>\n",
       "      <th>VIRGIN ISLANDS</th>\n",
       "      <th>VIRGINIA</th>\n",
       "      <th>WASHINGTON</th>\n",
       "      <th>WEST VIRGINIA</th>\n",
       "      <th>WISCONSIN</th>\n",
       "      <th>WYOMING</th>\n",
       "      <th>Unnamed: 61</th>\n",
       "    </tr>\n",
       "  </thead>\n",
       "  <tbody>\n",
       "    <tr>\n",
       "      <th>0</th>\n",
       "      <td>1909</td>\n",
       "      <td>1</td>\n",
       "      <td>NaN</td>\n",
       "      <td>NaN</td>\n",
       "      <td>NaN</td>\n",
       "      <td>NaN</td>\n",
       "      <td>NaN</td>\n",
       "      <td>NaN</td>\n",
       "      <td>NaN</td>\n",
       "      <td>NaN</td>\n",
       "      <td>...</td>\n",
       "      <td>NaN</td>\n",
       "      <td>NaN</td>\n",
       "      <td>NaN</td>\n",
       "      <td>NaN</td>\n",
       "      <td>NaN</td>\n",
       "      <td>NaN</td>\n",
       "      <td>NaN</td>\n",
       "      <td>NaN</td>\n",
       "      <td>NaN</td>\n",
       "      <td>NaN</td>\n",
       "    </tr>\n",
       "    <tr>\n",
       "      <th>1</th>\n",
       "      <td>1909</td>\n",
       "      <td>2</td>\n",
       "      <td>NaN</td>\n",
       "      <td>NaN</td>\n",
       "      <td>NaN</td>\n",
       "      <td>NaN</td>\n",
       "      <td>NaN</td>\n",
       "      <td>NaN</td>\n",
       "      <td>NaN</td>\n",
       "      <td>NaN</td>\n",
       "      <td>...</td>\n",
       "      <td>NaN</td>\n",
       "      <td>NaN</td>\n",
       "      <td>NaN</td>\n",
       "      <td>NaN</td>\n",
       "      <td>NaN</td>\n",
       "      <td>NaN</td>\n",
       "      <td>NaN</td>\n",
       "      <td>NaN</td>\n",
       "      <td>NaN</td>\n",
       "      <td>NaN</td>\n",
       "    </tr>\n",
       "    <tr>\n",
       "      <th>2</th>\n",
       "      <td>1909</td>\n",
       "      <td>3</td>\n",
       "      <td>NaN</td>\n",
       "      <td>NaN</td>\n",
       "      <td>NaN</td>\n",
       "      <td>NaN</td>\n",
       "      <td>NaN</td>\n",
       "      <td>NaN</td>\n",
       "      <td>NaN</td>\n",
       "      <td>NaN</td>\n",
       "      <td>...</td>\n",
       "      <td>NaN</td>\n",
       "      <td>NaN</td>\n",
       "      <td>NaN</td>\n",
       "      <td>NaN</td>\n",
       "      <td>NaN</td>\n",
       "      <td>NaN</td>\n",
       "      <td>NaN</td>\n",
       "      <td>NaN</td>\n",
       "      <td>NaN</td>\n",
       "      <td>NaN</td>\n",
       "    </tr>\n",
       "    <tr>\n",
       "      <th>3</th>\n",
       "      <td>1909</td>\n",
       "      <td>4</td>\n",
       "      <td>NaN</td>\n",
       "      <td>NaN</td>\n",
       "      <td>NaN</td>\n",
       "      <td>NaN</td>\n",
       "      <td>NaN</td>\n",
       "      <td>NaN</td>\n",
       "      <td>NaN</td>\n",
       "      <td>NaN</td>\n",
       "      <td>...</td>\n",
       "      <td>NaN</td>\n",
       "      <td>NaN</td>\n",
       "      <td>NaN</td>\n",
       "      <td>NaN</td>\n",
       "      <td>NaN</td>\n",
       "      <td>NaN</td>\n",
       "      <td>NaN</td>\n",
       "      <td>NaN</td>\n",
       "      <td>NaN</td>\n",
       "      <td>NaN</td>\n",
       "    </tr>\n",
       "    <tr>\n",
       "      <th>4</th>\n",
       "      <td>1909</td>\n",
       "      <td>5</td>\n",
       "      <td>NaN</td>\n",
       "      <td>NaN</td>\n",
       "      <td>NaN</td>\n",
       "      <td>NaN</td>\n",
       "      <td>NaN</td>\n",
       "      <td>NaN</td>\n",
       "      <td>NaN</td>\n",
       "      <td>NaN</td>\n",
       "      <td>...</td>\n",
       "      <td>NaN</td>\n",
       "      <td>NaN</td>\n",
       "      <td>NaN</td>\n",
       "      <td>NaN</td>\n",
       "      <td>NaN</td>\n",
       "      <td>NaN</td>\n",
       "      <td>NaN</td>\n",
       "      <td>NaN</td>\n",
       "      <td>NaN</td>\n",
       "      <td>NaN</td>\n",
       "    </tr>\n",
       "  </tbody>\n",
       "</table>\n",
       "<p>5 rows × 62 columns</p>\n",
       "</div>"
      ],
      "text/plain": [
       "   YEAR  WEEK  ALABAMA  ALASKA  AMERICAN SAMOA  ARIZONA  ARKANSAS  CALIFORNIA  \\\n",
       "0  1909     1      NaN     NaN             NaN      NaN       NaN         NaN   \n",
       "1  1909     2      NaN     NaN             NaN      NaN       NaN         NaN   \n",
       "2  1909     3      NaN     NaN             NaN      NaN       NaN         NaN   \n",
       "3  1909     4      NaN     NaN             NaN      NaN       NaN         NaN   \n",
       "4  1909     5      NaN     NaN             NaN      NaN       NaN         NaN   \n",
       "\n",
       "   COLORADO  CONNECTICUT     ...       UPSTATE NEW YORK  UTAH  VERMONT  \\\n",
       "0       NaN          NaN     ...                    NaN   NaN      NaN   \n",
       "1       NaN          NaN     ...                    NaN   NaN      NaN   \n",
       "2       NaN          NaN     ...                    NaN   NaN      NaN   \n",
       "3       NaN          NaN     ...                    NaN   NaN      NaN   \n",
       "4       NaN          NaN     ...                    NaN   NaN      NaN   \n",
       "\n",
       "   VIRGIN ISLANDS  VIRGINIA  WASHINGTON  WEST VIRGINIA  WISCONSIN  WYOMING  \\\n",
       "0             NaN       NaN         NaN            NaN        NaN      NaN   \n",
       "1             NaN       NaN         NaN            NaN        NaN      NaN   \n",
       "2             NaN       NaN         NaN            NaN        NaN      NaN   \n",
       "3             NaN       NaN         NaN            NaN        NaN      NaN   \n",
       "4             NaN       NaN         NaN            NaN        NaN      NaN   \n",
       "\n",
       "   Unnamed: 61  \n",
       "0          NaN  \n",
       "1          NaN  \n",
       "2          NaN  \n",
       "3          NaN  \n",
       "4          NaN  \n",
       "\n",
       "[5 rows x 62 columns]"
      ]
     },
     "execution_count": 8,
     "metadata": {},
     "output_type": "execute_result"
    }
   ],
   "source": [
    "p.head()                     ## look at the first little bit"
   ]
  },
  {
   "cell_type": "markdown",
   "metadata": {},
   "source": [
    "Since this starts at the beginning, before data is available for most states, most of the cells are filled with `NaN` values (which stands for \"not a number\"), which `pandas` uses to denote missingness. However, let's just ignore them for now.\n",
    "\n",
    "Let's be ambitious and plot *all* the data (leaving out the `WEEK` and `YEAR` columns) as a function of time, with a log-scaled y axis (`plt.semilogy()`) ..."
   ]
  },
  {
   "cell_type": "code",
   "execution_count": 9,
   "metadata": {
    "collapsed": false,
    "scrolled": true
   },
   "outputs": [],
   "source": [
    "import matplotlib.pyplot as plt\n",
    "fig, ax = plt.subplots()\n",
    "all_data = p.loc[:,\"ALABAMA\":]\n",
    "## equivalently: all_data=p.drop([\"YEAR\",\"WEEK])\n",
    "ax.semilogy(all_data);"
   ]
  },
  {
   "cell_type": "markdown",
   "metadata": {},
   "source": [
    "\n",
    "\n",
    "We can use `.isnull()` to test whether values are missing or not (testing whether they are equal to the special value `numpy.nan`  **does not work** ...)\n"
   ]
  },
  {
   "cell_type": "code",
   "execution_count": 10,
   "metadata": {
    "collapsed": false
   },
   "outputs": [
    {
     "data": {
      "text/plain": [
       "0    True\n",
       "1    True\n",
       "2    True\n",
       "3    True\n",
       "4    True\n",
       "Name: ALABAMA, dtype: bool"
      ]
     },
     "execution_count": 10,
     "metadata": {},
     "output_type": "execute_result"
    }
   ],
   "source": [
    "p.ALABAMA.isnull().head()"
   ]
  },
  {
   "cell_type": "markdown",
   "metadata": {},
   "source": [
    "`.sum()` applied to a logical array counts the number of `True` values ..."
   ]
  },
  {
   "cell_type": "code",
   "execution_count": 11,
   "metadata": {
    "collapsed": false
   },
   "outputs": [
    {
     "data": {
      "text/plain": [
       "2707"
      ]
     },
     "execution_count": 11,
     "metadata": {},
     "output_type": "execute_result"
    }
   ],
   "source": [
    "p.ALABAMA.isnull().sum()"
   ]
  },
  {
   "cell_type": "markdown",
   "metadata": {},
   "source": [
    "Let's say we want to get the number of missing values in *every* column. First we'll use `.isnull()` on the whole DataFrame, then `.sum()` to count the number missing in each column"
   ]
  },
  {
   "cell_type": "code",
   "execution_count": 12,
   "metadata": {
    "collapsed": false
   },
   "outputs": [
    {
     "data": {
      "text/plain": [
       "ALABAMA           2707\n",
       "ALASKA            4157\n",
       "AMERICAN SAMOA    4858\n",
       "ARIZONA           2508\n",
       "ARKANSAS          2991\n",
       "dtype: int64"
      ]
     },
     "execution_count": 12,
     "metadata": {},
     "output_type": "execute_result"
    }
   ],
   "source": [
    "all_missing = all_data.isnull()\n",
    "n_all_miss = all_missing.sum()\n",
    "n_all_miss.head()"
   ]
  },
  {
   "cell_type": "code",
   "execution_count": 13,
   "metadata": {
    "collapsed": false,
    "scrolled": false
   },
   "outputs": [
    {
     "data": {
      "image/png": "[encoded data removed]",
      "text/plain": [
       "<matplotlib.figure.Figure at 0x7f7ebe87d9b0>"
      ]
     },
     "metadata": {},
     "output_type": "display_data"
    }
   ],
   "source": [
    "import matplotlib.pyplot as plt\n",
    "%matplotlib inline\n",
    "plt.hist(n_all_miss)  ## do this in a \"non-pythonic\" way (auto plot setup)\n",
    "plt.xlabel(\"number of missing data points\");\n"
   ]
  },
  {
   "cell_type": "markdown",
   "metadata": {},
   "source": [
    "We can also do the sum across rows (`axis=1`) and plot the results ..."
   ]
  },
  {
   "cell_type": "code",
   "execution_count": 14,
   "metadata": {
    "collapsed": false
   },
   "outputs": [
    {
     "data": {
      "image/png": "[encoded data removed]",
      "text/plain": [
       "<matplotlib.figure.Figure at 0x7f7ebe87d470>"
      ]
     },
     "metadata": {},
     "output_type": "display_data"
    }
   ],
   "source": [
    "tot_missing = all_missing.sum(axis=1)\n",
    "plt.plot(tot_missing);"
   ]
  },
  {
   "cell_type": "markdown",
   "metadata": {},
   "source": [
    "If we try to do any operations with Series with `nan` values in them we're in trouble ..."
   ]
  },
  {
   "cell_type": "code",
   "execution_count": 15,
   "metadata": {
    "collapsed": false
   },
   "outputs": [
    {
     "data": {
      "text/plain": [
       "nan"
      ]
     },
     "execution_count": 15,
     "metadata": {},
     "output_type": "execute_result"
    }
   ],
   "source": [
    "sum(p.ALABAMA)"
   ]
  },
  {
   "cell_type": "markdown",
   "metadata": {},
   "source": [
    "Unfortunately this makes sense. \"Anything + `nan`\" *should* be `nan`; so should \"Anything * `nan`\" ... If we just want to get rid of `nan` values we can use `.dropna()` ..."
   ]
  },
  {
   "cell_type": "code",
   "execution_count": 16,
   "metadata": {
    "collapsed": false
   },
   "outputs": [
    {
     "name": "stdout",
     "output_type": "stream",
     "text": [
      "209536.0\n"
     ]
    },
    {
     "data": {
      "text/plain": [
       "(4861, 2154, 2154)"
      ]
     },
     "execution_count": 16,
     "metadata": {},
     "output_type": "execute_result"
    }
   ],
   "source": [
    "ALABAMA_nona = p.ALABAMA.dropna()\n",
    "print(sum(ALABAMA_nona))\n",
    "## ~ (tilde/twiddle) is \"logical not\" for pandas objects ...\n",
    "(len(p.ALABAMA),sum(~p.ALABAMA.isnull()),len(ALABAMA_nona))"
   ]
  },
  {
   "cell_type": "markdown",
   "metadata": {},
   "source": [
    "Now we might want to figure out how far we have to go in a series to find the first non-`NaN` value ... it's a little sneaky we can use `.argmin()` for this ...\n",
    "\n",
    "- `.isnull()` turns `nan` values to `True`, which in turn gets translated to 1 when we do a numerical operation\n",
    "- `.argmin()` returns the index of the **first** occurrence of the minumum value, which is 0 = `False` = not `nan`"
   ]
  },
  {
   "cell_type": "code",
   "execution_count": 17,
   "metadata": {
    "collapsed": false
   },
   "outputs": [
    {
     "name": "stdout",
     "output_type": "stream",
     "text": [
      "985\n"
     ]
    }
   ],
   "source": [
    "first_alabama = p.ALABAMA.isnull().argmin()\n",
    "print(first_alabama)"
   ]
  },
  {
   "cell_type": "markdown",
   "metadata": {},
   "source": [
    "Which time period does this correspond to?"
   ]
  },
  {
   "cell_type": "code",
   "execution_count": 18,
   "metadata": {
    "collapsed": false
   },
   "outputs": [
    {
     "data": {
      "text/plain": [
       "YEAR    1927.0\n",
       "WEEK      47.0\n",
       "Name: 985, dtype: float64"
      ]
     },
     "execution_count": 18,
     "metadata": {},
     "output_type": "execute_result"
    }
   ],
   "source": [
    "p.loc[first_alabama,\"YEAR\":\"WEEK\"]"
   ]
  },
  {
   "cell_type": "markdown",
   "metadata": {},
   "source": [
    "Let's make a function to simplify this a bit ..."
   ]
  },
  {
   "cell_type": "code",
   "execution_count": 19,
   "metadata": {
    "collapsed": false
   },
   "outputs": [],
   "source": [
    "def first_val(x):\n",
    "    return(x.isnull().argmin())"
   ]
  },
  {
   "cell_type": "markdown",
   "metadata": {},
   "source": [
    "Now we want to run this on all of the data columns (not the `YEAR` and `WEEK` columns). We could use a `for` loop, but it's more compact and pandas-ish to use `.apply()` for this.  In general, `.apply()` takes *any* function and runs it on each column of a DataFrame."
   ]
  },
  {
   "cell_type": "code",
   "execution_count": 20,
   "metadata": {
    "collapsed": false,
    "scrolled": true
   },
   "outputs": [
    {
     "data": {
      "text/plain": [
       "ALABAMA            985\n",
       "ALASKA            2348\n",
       "AMERICAN SAMOA    4125\n",
       "ARIZONA            985\n",
       "ARKANSAS           985\n",
       "dtype: int64"
      ]
     },
     "execution_count": 20,
     "metadata": {},
     "output_type": "execute_result"
    }
   ],
   "source": [
    "all_first_vals = p.loc[:,\"ALABAMA\":].apply(first_val)\n",
    "all_first_vals.head()\n"
   ]
  },
  {
   "cell_type": "markdown",
   "metadata": {},
   "source": [
    "What if we want a histogram of all of the non-`nan` data?  First we `.unstack()` the data to convert it into a single vector, then we `.dropna()`, then we plot the histogram of $\\log(1+x)$ ..."
   ]
  },
  {
   "cell_type": "code",
   "execution_count": 29,
   "metadata": {
    "collapsed": false,
    "scrolled": true
   },
   "outputs": [
    {
     "data": {
      "image/png": "[encoded data removed]",
      "text/plain": [
       "<matplotlib.figure.Figure at 0x7f7ebe797ba8>"
      ]
     },
     "metadata": {},
     "output_type": "display_data"
    }
   ],
   "source": [
    "import numpy as np\n",
    "plt.hist(np.log(1+all_data.unstack().dropna()));"
   ]
  },
  {
   "cell_type": "markdown",
   "metadata": {},
   "source": [
    "# Data cleaning"
   ]
  },
  {
   "cell_type": "code",
   "execution_count": 33,
   "metadata": {
    "collapsed": false,
    "scrolled": true
   },
   "outputs": [
    {
     "data": {
      "text/plain": [
       "NEW YORK           8831.0\n",
       "OHIO               9278.0\n",
       "KENTUCKY          10402.0\n",
       "VIRGIN ISLANDS    53000.0\n",
       "Unnamed: 61           NaN\n",
       "dtype: float64"
      ]
     },
     "execution_count": 33,
     "metadata": {},
     "output_type": "execute_result"
    }
   ],
   "source": [
    "p.max().sort_values().tail()"
   ]
  },
  {
   "cell_type": "code",
   "execution_count": 49,
   "metadata": {
    "collapsed": false
   },
   "outputs": [
    {
     "data": {
      "image/png": "[encoded data removed]",
      "text/plain": [
       "<matplotlib.figure.Figure at 0x7f7ebe528be0>"
      ]
     },
     "metadata": {},
     "output_type": "display_data"
    }
   ],
   "source": [
    "plt.scatter(p.index,p.KENTUCKY)\n",
    "plt.scatter(p.index,p[\"VIRGIN ISLANDS\"],color=\"red\");\n",
    "plt.scatter(p.index,p.OHIO,color=\"brown\");"
   ]
  },
  {
   "cell_type": "markdown",
   "metadata": {
    "collapsed": true
   },
   "source": [
    "## Filtering\n",
    "\n",
    "Choosing specific rows of a data frame; `&`, `|` ,`~` correspond to `and`, `or`, `not`\n",
    "(individual elements *must* be in parentheses)\n"
   ]
  },
  {
   "cell_type": "code",
   "execution_count": 22,
   "metadata": {
    "collapsed": false,
    "scrolled": false
   },
   "outputs": [
    {
     "data": {
      "text/plain": [
       "3235    98.0\n",
       "3236    56.0\n",
       "3238    69.0\n",
       "Name: ALABAMA, dtype: float64"
      ]
     },
     "execution_count": 22,
     "metadata": {},
     "output_type": "execute_result"
    }
   ],
   "source": [
    "p.ALABAMA[(p.YEAR==1970) & (p.ALABAMA>50)]               "
   ]
  },
  {
   "cell_type": "markdown",
   "metadata": {},
   "source": [
    "## Indexing\n",
    "\n",
    "Use `.index()` to assign an index to the *rows* of a DataFrame; the rows can be used in `.loc()`, will also be included automatically as the x-axis variable in any plots ..."
   ]
  },
  {
   "cell_type": "code",
   "execution_count": 23,
   "metadata": {
    "collapsed": false,
    "scrolled": false
   },
   "outputs": [
    {
     "name": "stderr",
     "output_type": "stream",
     "text": [
      "/usr/local/lib/python3.4/dist-packages/ipykernel/__main__.py:4: SettingWithCopyWarning: \n",
      "A value is trying to be set on a copy of a slice from a DataFrame\n",
      "\n",
      "See the caveats in the documentation: http://pandas.pydata.org/pandas-docs/stable/indexing.html#indexing-view-versus-copy\n"
     ]
    },
    {
     "data": {
      "text/html": [
       "<div>\n",
       "<table border=\"1\" class=\"dataframe\">\n",
       "  <thead>\n",
       "    <tr style=\"text-align: right;\">\n",
       "      <th></th>\n",
       "      <th>ALABAMA</th>\n",
       "      <th>ALASKA</th>\n",
       "      <th>AMERICAN SAMOA</th>\n",
       "      <th>ARIZONA</th>\n",
       "      <th>ARKANSAS</th>\n",
       "      <th>CALIFORNIA</th>\n",
       "      <th>COLORADO</th>\n",
       "      <th>CONNECTICUT</th>\n",
       "      <th>DELAWARE</th>\n",
       "      <th>DISTRICT OF COLUMBIA</th>\n",
       "      <th>...</th>\n",
       "      <th>UPSTATE NEW YORK</th>\n",
       "      <th>UTAH</th>\n",
       "      <th>VERMONT</th>\n",
       "      <th>VIRGIN ISLANDS</th>\n",
       "      <th>VIRGINIA</th>\n",
       "      <th>WASHINGTON</th>\n",
       "      <th>WEST VIRGINIA</th>\n",
       "      <th>WISCONSIN</th>\n",
       "      <th>WYOMING</th>\n",
       "      <th>Unnamed: 61</th>\n",
       "    </tr>\n",
       "  </thead>\n",
       "  <tbody>\n",
       "    <tr>\n",
       "      <th>1927.884615</th>\n",
       "      <td>40.0</td>\n",
       "      <td>NaN</td>\n",
       "      <td>NaN</td>\n",
       "      <td>1.0</td>\n",
       "      <td>6.0</td>\n",
       "      <td>37.0</td>\n",
       "      <td>17.0</td>\n",
       "      <td>36.0</td>\n",
       "      <td>4.0</td>\n",
       "      <td>NaN</td>\n",
       "      <td>...</td>\n",
       "      <td>NaN</td>\n",
       "      <td>1.0</td>\n",
       "      <td>0.0</td>\n",
       "      <td>NaN</td>\n",
       "      <td>NaN</td>\n",
       "      <td>77.0</td>\n",
       "      <td>20.0</td>\n",
       "      <td>85.0</td>\n",
       "      <td>11.0</td>\n",
       "      <td>NaN</td>\n",
       "    </tr>\n",
       "    <tr>\n",
       "      <th>1927.903846</th>\n",
       "      <td>38.0</td>\n",
       "      <td>NaN</td>\n",
       "      <td>NaN</td>\n",
       "      <td>2.0</td>\n",
       "      <td>63.0</td>\n",
       "      <td>36.0</td>\n",
       "      <td>2.0</td>\n",
       "      <td>29.0</td>\n",
       "      <td>0.0</td>\n",
       "      <td>NaN</td>\n",
       "      <td>...</td>\n",
       "      <td>NaN</td>\n",
       "      <td>0.0</td>\n",
       "      <td>2.0</td>\n",
       "      <td>NaN</td>\n",
       "      <td>NaN</td>\n",
       "      <td>214.0</td>\n",
       "      <td>7.0</td>\n",
       "      <td>120.0</td>\n",
       "      <td>2.0</td>\n",
       "      <td>NaN</td>\n",
       "    </tr>\n",
       "    <tr>\n",
       "      <th>1927.923077</th>\n",
       "      <td>44.0</td>\n",
       "      <td>NaN</td>\n",
       "      <td>NaN</td>\n",
       "      <td>9.0</td>\n",
       "      <td>22.0</td>\n",
       "      <td>53.0</td>\n",
       "      <td>11.0</td>\n",
       "      <td>47.0</td>\n",
       "      <td>NaN</td>\n",
       "      <td>NaN</td>\n",
       "      <td>...</td>\n",
       "      <td>NaN</td>\n",
       "      <td>NaN</td>\n",
       "      <td>NaN</td>\n",
       "      <td>NaN</td>\n",
       "      <td>NaN</td>\n",
       "      <td>166.0</td>\n",
       "      <td>30.0</td>\n",
       "      <td>84.0</td>\n",
       "      <td>10.0</td>\n",
       "      <td>NaN</td>\n",
       "    </tr>\n",
       "    <tr>\n",
       "      <th>1927.942308</th>\n",
       "      <td>NaN</td>\n",
       "      <td>NaN</td>\n",
       "      <td>NaN</td>\n",
       "      <td>NaN</td>\n",
       "      <td>NaN</td>\n",
       "      <td>NaN</td>\n",
       "      <td>NaN</td>\n",
       "      <td>NaN</td>\n",
       "      <td>NaN</td>\n",
       "      <td>NaN</td>\n",
       "      <td>...</td>\n",
       "      <td>NaN</td>\n",
       "      <td>NaN</td>\n",
       "      <td>NaN</td>\n",
       "      <td>NaN</td>\n",
       "      <td>NaN</td>\n",
       "      <td>NaN</td>\n",
       "      <td>NaN</td>\n",
       "      <td>NaN</td>\n",
       "      <td>NaN</td>\n",
       "      <td>NaN</td>\n",
       "    </tr>\n",
       "    <tr>\n",
       "      <th>1927.961538</th>\n",
       "      <td>43.0</td>\n",
       "      <td>NaN</td>\n",
       "      <td>NaN</td>\n",
       "      <td>2.0</td>\n",
       "      <td>16.0</td>\n",
       "      <td>17.0</td>\n",
       "      <td>16.0</td>\n",
       "      <td>35.0</td>\n",
       "      <td>2.0</td>\n",
       "      <td>NaN</td>\n",
       "      <td>...</td>\n",
       "      <td>NaN</td>\n",
       "      <td>2.0</td>\n",
       "      <td>NaN</td>\n",
       "      <td>NaN</td>\n",
       "      <td>NaN</td>\n",
       "      <td>138.0</td>\n",
       "      <td>48.0</td>\n",
       "      <td>106.0</td>\n",
       "      <td>NaN</td>\n",
       "      <td>NaN</td>\n",
       "    </tr>\n",
       "  </tbody>\n",
       "</table>\n",
       "<p>5 rows × 60 columns</p>\n",
       "</div>"
      ],
      "text/plain": [
       "             ALABAMA  ALASKA  AMERICAN SAMOA  ARIZONA  ARKANSAS  CALIFORNIA  \\\n",
       "1927.884615     40.0     NaN             NaN      1.0       6.0        37.0   \n",
       "1927.903846     38.0     NaN             NaN      2.0      63.0        36.0   \n",
       "1927.923077     44.0     NaN             NaN      9.0      22.0        53.0   \n",
       "1927.942308      NaN     NaN             NaN      NaN       NaN         NaN   \n",
       "1927.961538     43.0     NaN             NaN      2.0      16.0        17.0   \n",
       "\n",
       "             COLORADO  CONNECTICUT  DELAWARE  DISTRICT OF COLUMBIA  \\\n",
       "1927.884615      17.0         36.0       4.0                   NaN   \n",
       "1927.903846       2.0         29.0       0.0                   NaN   \n",
       "1927.923077      11.0         47.0       NaN                   NaN   \n",
       "1927.942308       NaN          NaN       NaN                   NaN   \n",
       "1927.961538      16.0         35.0       2.0                   NaN   \n",
       "\n",
       "                ...       UPSTATE NEW YORK  UTAH  VERMONT  VIRGIN ISLANDS  \\\n",
       "1927.884615     ...                    NaN   1.0      0.0             NaN   \n",
       "1927.903846     ...                    NaN   0.0      2.0             NaN   \n",
       "1927.923077     ...                    NaN   NaN      NaN             NaN   \n",
       "1927.942308     ...                    NaN   NaN      NaN             NaN   \n",
       "1927.961538     ...                    NaN   2.0      NaN             NaN   \n",
       "\n",
       "             VIRGINIA  WASHINGTON  WEST VIRGINIA  WISCONSIN  WYOMING  \\\n",
       "1927.884615       NaN        77.0           20.0       85.0     11.0   \n",
       "1927.903846       NaN       214.0            7.0      120.0      2.0   \n",
       "1927.923077       NaN       166.0           30.0       84.0     10.0   \n",
       "1927.942308       NaN         NaN            NaN        NaN      NaN   \n",
       "1927.961538       NaN       138.0           48.0      106.0      NaN   \n",
       "\n",
       "             Unnamed: 61  \n",
       "1927.884615          NaN  \n",
       "1927.903846          NaN  \n",
       "1927.923077          NaN  \n",
       "1927.942308          NaN  \n",
       "1927.961538          NaN  \n",
       "\n",
       "[5 rows x 60 columns]"
      ]
     },
     "execution_count": 23,
     "metadata": {},
     "output_type": "execute_result"
    }
   ],
   "source": [
    "p_short = p.iloc[first_val(p.ALABAMA):,:]         ## drop first bit with many NAs\n",
    "p_short.index = p_short.YEAR+(p_short.WEEK-1)/52  ## assign 'Julian date' as index\n",
    "p_dateinfo = p_short[[\"YEAR\",\"WEEK\"]]             ## save date info for future reference\n",
    "p_short.drop([\"WEEK\",\"YEAR\"],inplace=True,axis=1)           ## .... and drop from the DataFrame\n",
    "p_short.head()\n"
   ]
  },
  {
   "cell_type": "markdown",
   "metadata": {},
   "source": [
    "Plot results:"
   ]
  },
  {
   "cell_type": "code",
   "execution_count": 24,
   "metadata": {
    "collapsed": false
   },
   "outputs": [
    {
     "data": {
      "image/png": "[encoded data removed]",
      "text/plain": [
       "<matplotlib.figure.Figure at 0x7f7ebe6fb8d0>"
      ]
     },
     "metadata": {},
     "output_type": "display_data"
    }
   ],
   "source": [
    "plt.semilogy(p_short.sum(axis=1))\n",
    "plt.xlabel(\"Date\")\n",
    "plt.ylabel(\"Total cases\");"
   ]
  },
  {
   "cell_type": "markdown",
   "metadata": {},
   "source": [
    "## Aggregation\n",
    "\n",
    "The `.groupby()` method adds\n",
    "\n"
   ]
  },
  {
   "cell_type": "code",
   "execution_count": 25,
   "metadata": {
    "collapsed": false,
    "scrolled": true
   },
   "outputs": [
    {
     "data": {
      "image/png": "[encoded data removed]",
      "text/plain": [
       "<matplotlib.figure.Figure at 0x7f7ebe7c9828>"
      ]
     },
     "metadata": {},
     "output_type": "display_data"
    }
   ],
   "source": [
    "p_week = p_short.groupby(p_dateinfo.WEEK)\n",
    "p_week_mean = p_week.aggregate(np.mean)\n",
    "plt.plot(p_week.aggregate(np.mean));"
   ]
  },
  {
   "cell_type": "code",
   "execution_count": 26,
   "metadata": {
    "collapsed": false
   },
   "outputs": [
    {
     "data": {
      "text/plain": [
       "CALIFORNIA         1267.722222\n",
       "TEXAS              1365.163636\n",
       "NEW YORK           2291.470588\n",
       "VIRGIN ISLANDS    26500.500000\n",
       "Unnamed: 61                NaN\n",
       "dtype: float64"
      ]
     },
     "execution_count": 26,
     "metadata": {},
     "output_type": "execute_result"
    }
   ],
   "source": [
    "p_week_mean.max(axis=0).sort_values().tail()"
   ]
  },
  {
   "cell_type": "code",
   "execution_count": 27,
   "metadata": {
    "collapsed": false,
    "scrolled": false
   },
   "outputs": [
    {
     "data": {
      "image/png": "[encoded data removed]",
      "text/plain": [
       "<matplotlib.figure.Figure at 0x7f7ebe1f4fd0>"
      ]
     },
     "metadata": {},
     "output_type": "display_data"
    }
   ],
   "source": [
    "plt.plot(p_week_mean[\"VIRGIN ISLANDS\"]);"
   ]
  },
  {
   "cell_type": "code",
   "execution_count": 28,
   "metadata": {
    "collapsed": false
   },
   "outputs": [
    {
     "data": {
      "image/png": "[encoded data removed]",
      "text/plain": [
       "<matplotlib.figure.Figure at 0x7f7ebe1f0e10>"
      ]
     },
     "metadata": {},
     "output_type": "display_data"
    }
   ],
   "source": [
    "plt.scatter(p_short.index,p_short[\"VIRGIN ISLANDS\"]);"
   ]
  }
 ],
 "metadata": {
  "kernelspec": {
   "display_name": "Python 3",
   "language": "python",
   "name": "python3"
  },
  "language_info": {
   "codemirror_mode": {
    "name": "ipython",
    "version": 3
   },
   "file_extension": ".py",
   "mimetype": "text/x-python",
   "name": "python",
   "nbconvert_exporter": "python",
   "pygments_lexer": "ipython3",
   "version": "3.4.3"
  }
 },
 "nbformat": 4,
 "nbformat_minor": 0
}
