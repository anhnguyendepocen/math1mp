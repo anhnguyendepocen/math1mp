{
 "cells": [
  {
   "cell_type": "code",
   "execution_count": 115,
   "metadata": {
    "collapsed": false,
    "scrolled": true
   },
   "outputs": [],
   "source": [
    "import pandas as pd\n",
    "import numpy as np\n",
    "import re           ## regular expressions\n",
    "import requests     ## for getting URLs\n",
    "from bs4 import BeautifulSoup  ## \n"
   ]
  },
  {
   "cell_type": "markdown",
   "metadata": {},
   "source": [
    "Go to the border crossing web site; grab the current version of the web page; and use `BeautifulSoup` to dissect it."
   ]
  },
  {
   "cell_type": "code",
   "execution_count": 116,
   "metadata": {
    "collapsed": false,
    "scrolled": false
   },
   "outputs": [
    {
     "data": {
      "text/plain": [
       "<tr class=\"bg-primary\">\n",
       "<th>CBSA Office</th>\n",
       "<th>Commercial Flow</th>\n",
       "<th>Travellers Flow</th>\n",
       "<th>Updated</th>\n",
       "</tr>"
      ]
     },
     "execution_count": 116,
     "metadata": {},
     "output_type": "execute_result"
    }
   ],
   "source": [
    "url = \"http://www.cbsa-asfc.gc.ca/bwt-taf/menu-eng.html#_s1\"\n",
    "response = requests.get(url)                ## get full web page\n",
    "soup = BeautifulSoup(response.text,\"lxml\")  ## parse the response"
   ]
  },
  {
   "cell_type": "markdown",
   "metadata": {},
   "source": [
    "The `.findChildren()` method returns a list of elements of a particular type within an object"
   ]
  },
  {
   "cell_type": "code",
   "execution_count": 117,
   "metadata": {
    "collapsed": false
   },
   "outputs": [
    {
     "data": {
      "text/plain": [
       "'\\nCBSA Office\\nCommercial Flow\\nTravellers Flow\\nUpdated\\n'"
      ]
     },
     "execution_count": 117,
     "metadata": {},
     "output_type": "execute_result"
    }
   ],
   "source": [
    "tab=soup.findChildren(\"table\")[0]  ## first table on the page   \n",
    "rows = tab.findChildren(\"tr\")      ## list of all rows in the table\n",
    "rows[0]                            ## first row is the header"
   ]
  },
  {
   "cell_type": "code",
   "execution_count": 118,
   "metadata": {
    "collapsed": false,
    "scrolled": true
   },
   "outputs": [
    {
     "data": {
      "text/plain": [
       "<tr><th><b>St. Stephen</b><br/>St. Stephen, NB/Calais, ME<br/></th><td>Not applicable</td><td>No delay</td><td><time datetime=\"2016-04-04T21:55-0300\">2016-04-04 21:55 ADT</time></td></tr>"
      ]
     },
     "execution_count": 118,
     "metadata": {},
     "output_type": "execute_result"
    }
   ],
   "source": [
    "rows[1]   ## second row is data"
   ]
  },
  {
   "cell_type": "markdown",
   "metadata": {},
   "source": [
    "Now we have to figure out how to extract the information from this. We can use\n",
    "\n",
    "- `.findChildren(\"th\")` to get the first (`<th>...</th>`) element\n",
    "- `.findChildren(\"td\")` to get subsequent (`<td>...</td>`) elements"
   ]
  },
  {
   "cell_type": "code",
   "execution_count": 106,
   "metadata": {
    "collapsed": false,
    "scrolled": false
   },
   "outputs": [
    {
     "name": "stdout",
     "output_type": "stream",
     "text": [
      "[<th><b>St. Stephen</b><br/>St. Stephen, NB/Calais, ME<br/></th>]\n"
     ]
    }
   ],
   "source": [
    "ff = rows[1].findChildren(\"th\")\n",
    "print(ff)"
   ]
  },
  {
   "cell_type": "markdown",
   "metadata": {},
   "source": [
    "we'd like to use `.get_text()` to simplify this, but it's a little *too* effective ... it drops the `<br/>` tag that's used to make a new line in the table ..."
   ]
  },
  {
   "cell_type": "code",
   "execution_count": 109,
   "metadata": {
    "collapsed": false
   },
   "outputs": [
    {
     "data": {
      "text/plain": [
       "'St. StephenSt. Stephen, NB/Calais, ME'"
      ]
     },
     "execution_count": 109,
     "metadata": {},
     "output_type": "execute_result"
    }
   ],
   "source": [
    "ff[0].get_text()"
   ]
  },
  {
   "cell_type": "markdown",
   "metadata": {},
   "source": [
    "Here's one way to do it: use `re.split()` to split a text version of the object on its HTML tags"
   ]
  },
  {
   "cell_type": "code",
   "execution_count": 110,
   "metadata": {
    "collapsed": false,
    "scrolled": true
   },
   "outputs": [
    {
     "name": "stdout",
     "output_type": "stream",
     "text": [
      "['' '' 'St. Stephen' '' 'St. Stephen, NB/Calais, ME' '' '']\n"
     ]
    }
   ],
   "source": [
    "rm = np.array(re.split(\"<[a-z/]+>\",format(ff[0])))\n",
    "print(rm)"
   ]
  },
  {
   "cell_type": "markdown",
   "metadata": {},
   "source": [
    "This will work as long as the format is consistent and we always want to get elements 2 and 4 of the result ..."
   ]
  },
  {
   "cell_type": "code",
   "execution_count": 114,
   "metadata": {
    "collapsed": false
   },
   "outputs": [
    {
     "name": "stdout",
     "output_type": "stream",
     "text": [
      "('St. Stephen', 'St. Stephen, NB/Calais, ME')\n"
     ]
    }
   ],
   "source": [
    "(loc1,loc2) = tuple(rm[[2,4]])\n",
    "print((loc1,loc2))"
   ]
  },
  {
   "cell_type": "markdown",
   "metadata": {},
   "source": [
    "What about the rest of the data in the row?"
   ]
  },
  {
   "cell_type": "code",
   "execution_count": 119,
   "metadata": {
    "collapsed": false
   },
   "outputs": [
    {
     "name": "stdout",
     "output_type": "stream",
     "text": [
      "[<td>Not applicable</td>, <td>No delay</td>, <td><time datetime=\"2016-04-04T21:55-0300\">2016-04-04 21:55 ADT</time></td>]\n"
     ]
    }
   ],
   "source": [
    "ff2 = rows[1].findChildren(\"td\")\n",
    "print(ff2)"
   ]
  },
  {
   "cell_type": "markdown",
   "metadata": {},
   "source": [
    "The delay information needs to be translated as follows:\n",
    "    \n",
    "- \"Not applicable\" = `NaN`, which we can do more idiomatically by setting the value to `None`\n",
    "- \"No delay\" = 0 \n",
    "- \"[xx] minutes\" = floating-point value of xx"
   ]
  },
  {
   "cell_type": "code",
   "execution_count": 161,
   "metadata": {
    "collapsed": false
   },
   "outputs": [],
   "source": [
    "def delay_transform(x):\n",
    "    '''transform raw delay information to a numeric value'''\n",
    "    if x==\"Not applicable\":\n",
    "            p = None\n",
    "    elif x==\"No delay\":\n",
    "            p = 0\n",
    "    elif \"minute\" in x:\n",
    "            num = (x.split(' '))[0]\n",
    "            p = float(num)\n",
    "    else:\n",
    "            raise ValueError(\"can't convert: \"+x)\n",
    "    return(p)\n"
   ]
  },
  {
   "cell_type": "code",
   "execution_count": 132,
   "metadata": {
    "collapsed": false,
    "scrolled": true
   },
   "outputs": [
    {
     "name": "stdout",
     "output_type": "stream",
     "text": [
      "(None, 0)\n"
     ]
    }
   ],
   "source": [
    "print((delay_transform(ff2[0].get_text()),\n",
    "      delay_transform(ff2[1].get_text())))"
   ]
  },
  {
   "cell_type": "code",
   "execution_count": 165,
   "metadata": {
    "collapsed": false
   },
   "outputs": [
    {
     "data": {
      "text/plain": [
       "'2016-04-04 21:55 ADT'"
      ]
     },
     "execution_count": 165,
     "metadata": {},
     "output_type": "execute_result"
    }
   ],
   "source": [
    "ff2[2].get_text()"
   ]
  },
  {
   "cell_type": "markdown",
   "metadata": {},
   "source": [
    "Now process the entire table ..."
   ]
  },
  {
   "cell_type": "code",
   "execution_count": 179,
   "metadata": {
    "collapsed": false
   },
   "outputs": [
    {
     "data": {
      "text/html": [
       "<div>\n",
       "<table border=\"1\" class=\"dataframe\">\n",
       "  <thead>\n",
       "    <tr style=\"text-align: right;\">\n",
       "      <th></th>\n",
       "      <th>loc1</th>\n",
       "      <th>loc2</th>\n",
       "      <th>delay_commercial</th>\n",
       "      <th>delay_traveler</th>\n",
       "    </tr>\n",
       "    <tr>\n",
       "      <th>time</th>\n",
       "      <th></th>\n",
       "      <th></th>\n",
       "      <th></th>\n",
       "      <th></th>\n",
       "    </tr>\n",
       "  </thead>\n",
       "  <tbody>\n",
       "    <tr>\n",
       "      <th>2016-04-04 21:55:00</th>\n",
       "      <td>St. Stephen</td>\n",
       "      <td>St. Stephen, NB/Calais, ME</td>\n",
       "      <td>NaN</td>\n",
       "      <td>0.0</td>\n",
       "    </tr>\n",
       "    <tr>\n",
       "      <th>2016-04-04 22:14:00</th>\n",
       "      <td>St. Stephen 3rd Bridge</td>\n",
       "      <td>St. Stephen, NB/Calais, ME</td>\n",
       "      <td>0.0</td>\n",
       "      <td>0.0</td>\n",
       "    </tr>\n",
       "    <tr>\n",
       "      <th>2016-04-04 22:01:00</th>\n",
       "      <td>Edmundston</td>\n",
       "      <td>Edmundston, NB/Madawaska, ME</td>\n",
       "      <td>0.0</td>\n",
       "      <td>0.0</td>\n",
       "    </tr>\n",
       "    <tr>\n",
       "      <th>2016-04-04 22:14:00</th>\n",
       "      <td>Woodstock Road</td>\n",
       "      <td>Belleville, NB/Houlton, ME</td>\n",
       "      <td>0.0</td>\n",
       "      <td>0.0</td>\n",
       "    </tr>\n",
       "    <tr>\n",
       "      <th>2016-04-05 01:02:00</th>\n",
       "      <td>Stanstead</td>\n",
       "      <td>Stanstead, QC/Derby Line, VT</td>\n",
       "      <td>0.0</td>\n",
       "      <td>0.0</td>\n",
       "    </tr>\n",
       "    <tr>\n",
       "      <th>2016-04-05 01:14:00</th>\n",
       "      <td>St-Armand/Philipsburg</td>\n",
       "      <td>St. Armand, QC/Highgate Springs, VT</td>\n",
       "      <td>0.0</td>\n",
       "      <td>0.0</td>\n",
       "    </tr>\n",
       "    <tr>\n",
       "      <th>2016-04-04 23:13:00</th>\n",
       "      <td>St-Bernard-de-Lacolle</td>\n",
       "      <td>Lacolle, QC/Champlain, NY</td>\n",
       "      <td>0.0</td>\n",
       "      <td>30.0</td>\n",
       "    </tr>\n",
       "    <tr>\n",
       "      <th>2016-04-05 01:14:00</th>\n",
       "      <td>Cornwall</td>\n",
       "      <td>Cornwall, ON/Rooseveltown, NY</td>\n",
       "      <td>0.0</td>\n",
       "      <td>0.0</td>\n",
       "    </tr>\n",
       "    <tr>\n",
       "      <th>2016-04-05 01:14:00</th>\n",
       "      <td>Prescott</td>\n",
       "      <td>Prescott, ON/Ogdensburg, NY</td>\n",
       "      <td>0.0</td>\n",
       "      <td>0.0</td>\n",
       "    </tr>\n",
       "    <tr>\n",
       "      <th>2016-04-05 01:14:00</th>\n",
       "      <td>Thousand Islands Bridge</td>\n",
       "      <td>Lansdowne, ON/Alexandria Bay, NY</td>\n",
       "      <td>0.0</td>\n",
       "      <td>0.0</td>\n",
       "    </tr>\n",
       "    <tr>\n",
       "      <th>2016-04-05 01:14:00</th>\n",
       "      <td>Sault Ste. Marie</td>\n",
       "      <td>Sault Ste. Marie, ON/Sault Ste. Marie, MI</td>\n",
       "      <td>0.0</td>\n",
       "      <td>0.0</td>\n",
       "    </tr>\n",
       "    <tr>\n",
       "      <th>2016-04-04 19:44:00</th>\n",
       "      <td>Fort Frances Bridge</td>\n",
       "      <td>Fort Frances, ON/International Falls, MN</td>\n",
       "      <td>0.0</td>\n",
       "      <td>0.0</td>\n",
       "    </tr>\n",
       "    <tr>\n",
       "      <th>2016-04-05 01:30:00</th>\n",
       "      <td>Queenston-Lewiston Bridge</td>\n",
       "      <td>Queenston, ON/Lewiston, NY</td>\n",
       "      <td>1.0</td>\n",
       "      <td>0.0</td>\n",
       "    </tr>\n",
       "    <tr>\n",
       "      <th>2016-04-05 00:45:00</th>\n",
       "      <td>Rainbow Bridge</td>\n",
       "      <td>Niagara Falls, ON/Niagara Falls, NY</td>\n",
       "      <td>NaN</td>\n",
       "      <td>0.0</td>\n",
       "    </tr>\n",
       "    <tr>\n",
       "      <th>2016-04-05 01:30:00</th>\n",
       "      <td>Peace Bridge</td>\n",
       "      <td>Fort Erie, ON/Buffalo, NY</td>\n",
       "      <td>1.0</td>\n",
       "      <td>1.0</td>\n",
       "    </tr>\n",
       "    <tr>\n",
       "      <th>2016-04-05 01:02:00</th>\n",
       "      <td>Blue Water Bridge</td>\n",
       "      <td>Sarnia, ON/Port Huron, MI</td>\n",
       "      <td>0.0</td>\n",
       "      <td>0.0</td>\n",
       "    </tr>\n",
       "    <tr>\n",
       "      <th>2016-04-05 01:14:00</th>\n",
       "      <td>Windsor and Detroit Tunnel</td>\n",
       "      <td>Windsor, ON/Detroit, MI</td>\n",
       "      <td>0.0</td>\n",
       "      <td>0.0</td>\n",
       "    </tr>\n",
       "    <tr>\n",
       "      <th>2016-04-05 01:14:00</th>\n",
       "      <td>Ambassador Bridge</td>\n",
       "      <td>Windsor, ON/Detroit, MI</td>\n",
       "      <td>0.0</td>\n",
       "      <td>0.0</td>\n",
       "    </tr>\n",
       "    <tr>\n",
       "      <th>2016-04-04 20:14:00</th>\n",
       "      <td>Emerson</td>\n",
       "      <td>Emerson, MB/Pembina, ND</td>\n",
       "      <td>0.0</td>\n",
       "      <td>0.0</td>\n",
       "    </tr>\n",
       "    <tr>\n",
       "      <th>2016-04-04 19:01:00</th>\n",
       "      <td>North Portal</td>\n",
       "      <td>North Portal, SK/Portal, ND</td>\n",
       "      <td>0.0</td>\n",
       "      <td>0.0</td>\n",
       "    </tr>\n",
       "    <tr>\n",
       "      <th>2016-04-04 19:00:00</th>\n",
       "      <td>Coutts</td>\n",
       "      <td>Coutts, AB/Sweet Grass, MT</td>\n",
       "      <td>0.0</td>\n",
       "      <td>0.0</td>\n",
       "    </tr>\n",
       "    <tr>\n",
       "      <th>2016-04-04 17:50:00</th>\n",
       "      <td>Abbotsford-Huntingdon</td>\n",
       "      <td>Huntingdon, BC/Sumas, WA</td>\n",
       "      <td>0.0</td>\n",
       "      <td>5.0</td>\n",
       "    </tr>\n",
       "    <tr>\n",
       "      <th>2016-04-04 18:30:00</th>\n",
       "      <td>Aldergrove</td>\n",
       "      <td>Aldergrove, BC/Lynden, WA</td>\n",
       "      <td>0.0</td>\n",
       "      <td>4.0</td>\n",
       "    </tr>\n",
       "    <tr>\n",
       "      <th>2016-04-04 18:30:00</th>\n",
       "      <td>Pacific Highway</td>\n",
       "      <td>Surrey, BC/Blaine, WA</td>\n",
       "      <td>0.0</td>\n",
       "      <td>0.0</td>\n",
       "    </tr>\n",
       "    <tr>\n",
       "      <th>2016-04-04 18:30:00</th>\n",
       "      <td>Douglas (Peace Arch)</td>\n",
       "      <td>Surrey, BC/Blaine, WA</td>\n",
       "      <td>NaN</td>\n",
       "      <td>0.0</td>\n",
       "    </tr>\n",
       "    <tr>\n",
       "      <th>2016-04-04 18:14:00</th>\n",
       "      <td>Boundary Bay</td>\n",
       "      <td>Delta, BC/Point Roberts, WA</td>\n",
       "      <td>0.0</td>\n",
       "      <td>0.0</td>\n",
       "    </tr>\n",
       "  </tbody>\n",
       "</table>\n",
       "</div>"
      ],
      "text/plain": [
       "                                           loc1  \\\n",
       "time                                              \n",
       "2016-04-04 21:55:00                 St. Stephen   \n",
       "2016-04-04 22:14:00      St. Stephen 3rd Bridge   \n",
       "2016-04-04 22:01:00                  Edmundston   \n",
       "2016-04-04 22:14:00              Woodstock Road   \n",
       "2016-04-05 01:02:00                   Stanstead   \n",
       "2016-04-05 01:14:00       St-Armand/Philipsburg   \n",
       "2016-04-04 23:13:00       St-Bernard-de-Lacolle   \n",
       "2016-04-05 01:14:00                    Cornwall   \n",
       "2016-04-05 01:14:00                    Prescott   \n",
       "2016-04-05 01:14:00     Thousand Islands Bridge   \n",
       "2016-04-05 01:14:00            Sault Ste. Marie   \n",
       "2016-04-04 19:44:00         Fort Frances Bridge   \n",
       "2016-04-05 01:30:00   Queenston-Lewiston Bridge   \n",
       "2016-04-05 00:45:00              Rainbow Bridge   \n",
       "2016-04-05 01:30:00                Peace Bridge   \n",
       "2016-04-05 01:02:00           Blue Water Bridge   \n",
       "2016-04-05 01:14:00  Windsor and Detroit Tunnel   \n",
       "2016-04-05 01:14:00           Ambassador Bridge   \n",
       "2016-04-04 20:14:00                     Emerson   \n",
       "2016-04-04 19:01:00                North Portal   \n",
       "2016-04-04 19:00:00                      Coutts   \n",
       "2016-04-04 17:50:00       Abbotsford-Huntingdon   \n",
       "2016-04-04 18:30:00                  Aldergrove   \n",
       "2016-04-04 18:30:00             Pacific Highway   \n",
       "2016-04-04 18:30:00        Douglas (Peace Arch)   \n",
       "2016-04-04 18:14:00                Boundary Bay   \n",
       "\n",
       "                                                          loc2  \\\n",
       "time                                                             \n",
       "2016-04-04 21:55:00                 St. Stephen, NB/Calais, ME   \n",
       "2016-04-04 22:14:00                 St. Stephen, NB/Calais, ME   \n",
       "2016-04-04 22:01:00               Edmundston, NB/Madawaska, ME   \n",
       "2016-04-04 22:14:00                 Belleville, NB/Houlton, ME   \n",
       "2016-04-05 01:02:00               Stanstead, QC/Derby Line, VT   \n",
       "2016-04-05 01:14:00        St. Armand, QC/Highgate Springs, VT   \n",
       "2016-04-04 23:13:00                  Lacolle, QC/Champlain, NY   \n",
       "2016-04-05 01:14:00              Cornwall, ON/Rooseveltown, NY   \n",
       "2016-04-05 01:14:00                Prescott, ON/Ogdensburg, NY   \n",
       "2016-04-05 01:14:00           Lansdowne, ON/Alexandria Bay, NY   \n",
       "2016-04-05 01:14:00  Sault Ste. Marie, ON/Sault Ste. Marie, MI   \n",
       "2016-04-04 19:44:00   Fort Frances, ON/International Falls, MN   \n",
       "2016-04-05 01:30:00                 Queenston, ON/Lewiston, NY   \n",
       "2016-04-05 00:45:00        Niagara Falls, ON/Niagara Falls, NY   \n",
       "2016-04-05 01:30:00                  Fort Erie, ON/Buffalo, NY   \n",
       "2016-04-05 01:02:00                  Sarnia, ON/Port Huron, MI   \n",
       "2016-04-05 01:14:00                    Windsor, ON/Detroit, MI   \n",
       "2016-04-05 01:14:00                    Windsor, ON/Detroit, MI   \n",
       "2016-04-04 20:14:00                    Emerson, MB/Pembina, ND   \n",
       "2016-04-04 19:01:00                North Portal, SK/Portal, ND   \n",
       "2016-04-04 19:00:00                 Coutts, AB/Sweet Grass, MT   \n",
       "2016-04-04 17:50:00                   Huntingdon, BC/Sumas, WA   \n",
       "2016-04-04 18:30:00                  Aldergrove, BC/Lynden, WA   \n",
       "2016-04-04 18:30:00                      Surrey, BC/Blaine, WA   \n",
       "2016-04-04 18:30:00                      Surrey, BC/Blaine, WA   \n",
       "2016-04-04 18:14:00                Delta, BC/Point Roberts, WA   \n",
       "\n",
       "                     delay_commercial  delay_traveler  \n",
       "time                                                   \n",
       "2016-04-04 21:55:00               NaN             0.0  \n",
       "2016-04-04 22:14:00               0.0             0.0  \n",
       "2016-04-04 22:01:00               0.0             0.0  \n",
       "2016-04-04 22:14:00               0.0             0.0  \n",
       "2016-04-05 01:02:00               0.0             0.0  \n",
       "2016-04-05 01:14:00               0.0             0.0  \n",
       "2016-04-04 23:13:00               0.0            30.0  \n",
       "2016-04-05 01:14:00               0.0             0.0  \n",
       "2016-04-05 01:14:00               0.0             0.0  \n",
       "2016-04-05 01:14:00               0.0             0.0  \n",
       "2016-04-05 01:14:00               0.0             0.0  \n",
       "2016-04-04 19:44:00               0.0             0.0  \n",
       "2016-04-05 01:30:00               1.0             0.0  \n",
       "2016-04-05 00:45:00               NaN             0.0  \n",
       "2016-04-05 01:30:00               1.0             1.0  \n",
       "2016-04-05 01:02:00               0.0             0.0  \n",
       "2016-04-05 01:14:00               0.0             0.0  \n",
       "2016-04-05 01:14:00               0.0             0.0  \n",
       "2016-04-04 20:14:00               0.0             0.0  \n",
       "2016-04-04 19:01:00               0.0             0.0  \n",
       "2016-04-04 19:00:00               0.0             0.0  \n",
       "2016-04-04 17:50:00               0.0             5.0  \n",
       "2016-04-04 18:30:00               0.0             4.0  \n",
       "2016-04-04 18:30:00               0.0             0.0  \n",
       "2016-04-04 18:30:00               NaN             0.0  \n",
       "2016-04-04 18:14:00               0.0             0.0  "
      ]
     },
     "execution_count": 179,
     "metadata": {},
     "output_type": "execute_result"
    }
   ],
   "source": [
    "res = []\n",
    "for r in rows[1:]:\n",
    "    res.append([])\n",
    "    ff = r.findChildren(\"th\")[0]\n",
    "    rm = np.array(re.split(\"<[a-z/]+>\",format(ff)))\n",
    "    res[-1].append(rm[2])\n",
    "    res[-1].append(rm[4])\n",
    "    ff2 = r.findChildren(\"td\")\n",
    "    res[-1].append(delay_transform(ff2[0].get_text()))\n",
    "    res[-1].append(delay_transform(ff2[1].get_text()))\n",
    "    res[-1].append(pd.to_datetime(ff2[2].get_text()))\n",
    "p = pd.DataFrame(res)\n",
    "p.columns = [\"loc1\",\"loc2\",\"delay_commercial\",\"delay_traveler\",\"time\"]\n",
    "p.index = p.time\n",
    "p.drop(\"time\",axis=1,inplace=True)\n",
    "p"
   ]
  }
 ],
 "metadata": {
  "kernelspec": {
   "display_name": "Python 3",
   "language": "python",
   "name": "python3"
  },
  "language_info": {
   "codemirror_mode": {
    "name": "ipython",
    "version": 3
   },
   "file_extension": ".py",
   "mimetype": "text/x-python",
   "name": "python",
   "nbconvert_exporter": "python",
   "pygments_lexer": "ipython3",
   "version": "3.4.3"
  }
 },
 "nbformat": 4,
 "nbformat_minor": 0
}
